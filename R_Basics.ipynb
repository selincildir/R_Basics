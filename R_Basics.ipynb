{
  "nbformat": 4,
  "nbformat_minor": 0,
  "metadata": {
    "colab": {
      "provenance": [],
      "toc_visible": true
    },
    "kernelspec": {
      "name": "ir",
      "display_name": "R"
    },
    "language_info": {
      "name": "R"
    }
  },
  "cells": [
    {
      "cell_type": "markdown",
      "source": [
        "# R Basics for Data Analyses"
      ],
      "metadata": {
        "id": "nuwvipX51NeP"
      }
    },
    {
      "cell_type": "markdown",
      "source": [
        "To install packages in R. For example: Install **tidyverse** package, type the code below:\n",
        "\n",
        "**install.packages(\"tidyverse\")**\n",
        "\n",
        "If you add **dependencies = TRUE** , it installs all other packages required to install tidyverse"
      ],
      "metadata": {
        "id": "EbscxkgKQNlg"
      }
    },
    {
      "cell_type": "code",
      "execution_count": 1,
      "metadata": {
        "colab": {
          "base_uri": "https://localhost:8080/"
        },
        "id": "hCBlwEZsM40O",
        "outputId": "8d066332-1344-40bb-e423-01cdac52d507"
      },
      "outputs": [
        {
          "output_type": "stream",
          "name": "stderr",
          "text": [
            "Installing package into ‘/usr/local/lib/R/site-library’\n",
            "(as ‘lib’ is unspecified)\n",
            "\n",
            "also installing the dependencies ‘lazyeval’, ‘rex’, ‘Rcpp’, ‘covr’, ‘feather’, ‘mockr’\n",
            "\n",
            "\n"
          ]
        }
      ],
      "source": [
        "install.packages(\"tidyverse\", dependencies = TRUE)"
      ]
    },
    {
      "cell_type": "markdown",
      "source": [
        "Once installed, call the library by typing the code below:"
      ],
      "metadata": {
        "id": "v2IHOw2ZRLbH"
      }
    },
    {
      "cell_type": "code",
      "source": [
        "library(tidyverse)"
      ],
      "metadata": {
        "colab": {
          "base_uri": "https://localhost:8080/"
        },
        "id": "8nh3MlE9Pyw-",
        "outputId": "81d5211d-778e-4171-ee79-007fa0355760"
      },
      "execution_count": 2,
      "outputs": [
        {
          "output_type": "stream",
          "name": "stderr",
          "text": [
            "── \u001b[1mAttaching core tidyverse packages\u001b[22m ──────────────────────── tidyverse 2.0.0 ──\n",
            "\u001b[32m✔\u001b[39m \u001b[34mdplyr    \u001b[39m 1.1.4     \u001b[32m✔\u001b[39m \u001b[34mreadr    \u001b[39m 2.1.5\n",
            "\u001b[32m✔\u001b[39m \u001b[34mforcats  \u001b[39m 1.0.0     \u001b[32m✔\u001b[39m \u001b[34mstringr  \u001b[39m 1.5.1\n",
            "\u001b[32m✔\u001b[39m \u001b[34mggplot2  \u001b[39m 3.4.4     \u001b[32m✔\u001b[39m \u001b[34mtibble   \u001b[39m 3.2.1\n",
            "\u001b[32m✔\u001b[39m \u001b[34mlubridate\u001b[39m 1.9.3     \u001b[32m✔\u001b[39m \u001b[34mtidyr    \u001b[39m 1.3.1\n",
            "\u001b[32m✔\u001b[39m \u001b[34mpurrr    \u001b[39m 1.0.2     \n",
            "── \u001b[1mConflicts\u001b[22m ────────────────────────────────────────── tidyverse_conflicts() ──\n",
            "\u001b[31m✖\u001b[39m \u001b[34mpurrr\u001b[39m::\u001b[32m%||%()\u001b[39m   masks \u001b[34mbase\u001b[39m::%||%()\n",
            "\u001b[31m✖\u001b[39m \u001b[34mdplyr\u001b[39m::\u001b[32mfilter()\u001b[39m masks \u001b[34mstats\u001b[39m::filter()\n",
            "\u001b[31m✖\u001b[39m \u001b[34mdplyr\u001b[39m::\u001b[32mlag()\u001b[39m    masks \u001b[34mstats\u001b[39m::lag()\n",
            "\u001b[36mℹ\u001b[39m Use the conflicted package (\u001b[3m\u001b[34m<http://conflicted.r-lib.org/>\u001b[39m\u001b[23m) to force all conflicts to become errors\n"
          ]
        }
      ]
    },
    {
      "cell_type": "markdown",
      "source": [
        "To see and understand the content of the data set, type ? together with the name of dataset. For the example below:\n",
        "dataset name is mpg"
      ],
      "metadata": {
        "id": "OGK4lcofS_jf"
      }
    },
    {
      "cell_type": "code",
      "source": [
        "?mpg"
      ],
      "metadata": {
        "id": "nnDGsxFxStF3"
      },
      "execution_count": 4,
      "outputs": []
    },
    {
      "cell_type": "code",
      "source": [
        "ggplot(data = mpg) +\n",
        "  geom_point(mapping = aes(x = displ, y = hwy))"
      ],
      "metadata": {
        "colab": {
          "base_uri": "https://localhost:8080/",
          "height": 437
        },
        "id": "wxGcu7oESWiS",
        "outputId": "d977c3ba-9d94-4094-c791-9052da615770"
      },
      "execution_count": 3,
      "outputs": [
        {
          "output_type": "display_data",
          "data": {
            "text/plain": [
              "plot without title"
            ],
            "image/png": "[encoded data removed]"
          },
          "metadata": {
            "image/png": {
              "width": 420,
              "height": 420
            }
          }
        }
      ]
    },
    {
      "cell_type": "markdown",
      "source": [
        "**The most important R commands for genomics analyses**"
      ],
      "metadata": {
        "id": "Hvk6-QCme02V"
      }
    },
    {
      "cell_type": "markdown",
      "source": [
        "To comment in R use #\n",
        "markdown #This is a comment\n"
      ],
      "metadata": {
        "id": "Y7b_HmRgcEcG"
      }
    },
    {
      "cell_type": "markdown",
      "source": [
        "To clear workspace use the code below:\n"
      ],
      "metadata": {
        "id": "6KW62Aq_eSZS"
      }
    },
    {
      "cell_type": "code",
      "source": [
        "# rm(list = ls())"
      ],
      "metadata": {
        "id": "wGZUqMuPeZNa"
      },
      "execution_count": 5,
      "outputs": []
    },
    {
      "cell_type": "markdown",
      "source": [
        "To assign a variable use <- or ="
      ],
      "metadata": {
        "id": "TJSyPQH2grsB"
      }
    },
    {
      "cell_type": "code",
      "source": [
        "myName <- \"Selin\""
      ],
      "metadata": {
        "id": "9SldpV_ggV2s"
      },
      "execution_count": 6,
      "outputs": []
    },
    {
      "cell_type": "code",
      "source": [
        "myName2 = \"SC\""
      ],
      "metadata": {
        "id": "hYlJqTOpom-v"
      },
      "execution_count": 15,
      "outputs": []
    },
    {
      "cell_type": "markdown",
      "source": [
        "To concatenate multiple strings use str_c(\" \", variable1, \" \", variable2)"
      ],
      "metadata": {
        "id": "cVSRSxp_gygT"
      }
    },
    {
      "cell_type": "code",
      "source": [
        "str_c(\"Hi! My name is \", myName)"
      ],
      "metadata": {
        "colab": {
          "base_uri": "https://localhost:8080/",
          "height": 34
        },
        "id": "nACc3thJgbIn",
        "outputId": "c2b963f3-9b9c-4762-9666-cc2e1e35ac4a"
      },
      "execution_count": 7,
      "outputs": [
        {
          "output_type": "display_data",
          "data": {
            "text/html": [
              "'Hi! My name is Selin'"
            ],
            "text/markdown": "'Hi! My name is Selin'",
            "text/latex": "'Hi! My name is Selin'",
            "text/plain": [
              "[1] \"Hi! My name is Selin\""
            ]
          },
          "metadata": {}
        }
      ]
    },
    {
      "cell_type": "markdown",
      "source": [
        "Below, installing another package called *palmerpenguins*"
      ],
      "metadata": {
        "id": "JwytYJpzkMwP"
      }
    },
    {
      "cell_type": "code",
      "source": [
        "install.packages(\"palmerpenguins\")"
      ],
      "metadata": {
        "colab": {
          "base_uri": "https://localhost:8080/"
        },
        "id": "WlNYUsbSkFDo",
        "outputId": "50869f3e-8ac3-46c5-f9c0-0c486773ee77"
      },
      "execution_count": 8,
      "outputs": [
        {
          "output_type": "stream",
          "name": "stderr",
          "text": [
            "Installing package into ‘/usr/local/lib/R/site-library’\n",
            "(as ‘lib’ is unspecified)\n",
            "\n"
          ]
        }
      ]
    },
    {
      "cell_type": "code",
      "source": [
        "library(palmerpenguins)"
      ],
      "metadata": {
        "id": "EpRlsQhokaHH"
      },
      "execution_count": 9,
      "outputs": []
    },
    {
      "cell_type": "markdown",
      "source": [
        "The \"and then\" pipe command: dataset %>%\n",
        "                               filter (datanametofilter == \" \") %>%\n",
        "                               summary()"
      ],
      "metadata": {
        "id": "Lppa1NPXk5Wf"
      }
    },
    {
      "cell_type": "code",
      "source": [
        "penguins %>%\n",
        "  filter(species == \"Gentoo\") %>%\n",
        "  summary()"
      ],
      "metadata": {
        "colab": {
          "base_uri": "https://localhost:8080/",
          "height": 303
        },
        "id": "XYB5Y2DXk4p0",
        "outputId": "8c4d0015-0169-4a0d-f4d7-791460ffdb8f"
      },
      "execution_count": 10,
      "outputs": [
        {
          "output_type": "display_data",
          "data": {
            "text/plain": [
              "      species          island    bill_length_mm  bill_depth_mm  \n",
              " Adelie   :  0   Biscoe   :124   Min.   :40.90   Min.   :13.10  \n",
              " Chinstrap:  0   Dream    :  0   1st Qu.:45.30   1st Qu.:14.20  \n",
              " Gentoo   :124   Torgersen:  0   Median :47.30   Median :15.00  \n",
              "                                 Mean   :47.50   Mean   :14.98  \n",
              "                                 3rd Qu.:49.55   3rd Qu.:15.70  \n",
              "                                 Max.   :59.60   Max.   :17.30  \n",
              "                                 NA's   :1       NA's   :1      \n",
              " flipper_length_mm  body_mass_g       sex          year     \n",
              " Min.   :203.0     Min.   :3950   female:58   Min.   :2007  \n",
              " 1st Qu.:212.0     1st Qu.:4700   male  :61   1st Qu.:2007  \n",
              " Median :216.0     Median :5000   NA's  : 5   Median :2008  \n",
              " Mean   :217.2     Mean   :5076               Mean   :2008  \n",
              " 3rd Qu.:221.0     3rd Qu.:5500               3rd Qu.:2009  \n",
              " Max.   :231.0     Max.   :6300               Max.   :2009  \n",
              " NA's   :1         NA's   :1                                "
            ]
          },
          "metadata": {}
        }
      ]
    },
    {
      "cell_type": "code",
      "source": [
        "penguins"
      ],
      "metadata": {
        "colab": {
          "base_uri": "https://localhost:8080/",
          "height": 1000
        },
        "id": "saUh_cAAmkkm",
        "outputId": "8f30c51e-2182-4d9c-a4b4-d98165c7ca9a"
      },
      "execution_count": 11,
      "outputs": [
        {
          "output_type": "display_data",
          "data": {
            "text/html": [
              "<table class=\"dataframe\">\n",
              "<caption>A tibble: 344 × 8</caption>\n",
              "<thead>\n",
              "\t<tr><th scope=col>species</th><th scope=col>island</th><th scope=col>bill_length_mm</th><th scope=col>bill_depth_mm</th><th scope=col>flipper_length_mm</th><th scope=col>body_mass_g</th><th scope=col>sex</th><th scope=col>year</th></tr>\n",
              "\t<tr><th scope=col>&lt;fct&gt;</th><th scope=col>&lt;fct&gt;</th><th scope=col>&lt;dbl&gt;</th><th scope=col>&lt;dbl&gt;</th><th scope=col>&lt;int&gt;</th><th scope=col>&lt;int&gt;</th><th scope=col>&lt;fct&gt;</th><th scope=col>&lt;int&gt;</th></tr>\n",
              "</thead>\n",
              "<tbody>\n",
              "\t<tr><td>Adelie</td><td>Torgersen</td><td>39.1</td><td>18.7</td><td>181</td><td>3750</td><td>male  </td><td>2007</td></tr>\n",
              "\t<tr><td>Adelie</td><td>Torgersen</td><td>39.5</td><td>17.4</td><td>186</td><td>3800</td><td>female</td><td>2007</td></tr>\n",
              "\t<tr><td>Adelie</td><td>Torgersen</td><td>40.3</td><td>18.0</td><td>195</td><td>3250</td><td>female</td><td>2007</td></tr>\n",
              "\t<tr><td>Adelie</td><td>Torgersen</td><td>  NA</td><td>  NA</td><td> NA</td><td>  NA</td><td>NA    </td><td>2007</td></tr>\n",
              "\t<tr><td>Adelie</td><td>Torgersen</td><td>36.7</td><td>19.3</td><td>193</td><td>3450</td><td>female</td><td>2007</td></tr>\n",
              "\t<tr><td>Adelie</td><td>Torgersen</td><td>39.3</td><td>20.6</td><td>190</td><td>3650</td><td>male  </td><td>2007</td></tr>\n",
              "\t<tr><td>Adelie</td><td>Torgersen</td><td>38.9</td><td>17.8</td><td>181</td><td>3625</td><td>female</td><td>2007</td></tr>\n",
              "\t<tr><td>Adelie</td><td>Torgersen</td><td>39.2</td><td>19.6</td><td>195</td><td>4675</td><td>male  </td><td>2007</td></tr>\n",
              "\t<tr><td>Adelie</td><td>Torgersen</td><td>34.1</td><td>18.1</td><td>193</td><td>3475</td><td>NA    </td><td>2007</td></tr>\n",
              "\t<tr><td>Adelie</td><td>Torgersen</td><td>42.0</td><td>20.2</td><td>190</td><td>4250</td><td>NA    </td><td>2007</td></tr>\n",
              "\t<tr><td>Adelie</td><td>Torgersen</td><td>37.8</td><td>17.1</td><td>186</td><td>3300</td><td>NA    </td><td>2007</td></tr>\n",
              "\t<tr><td>Adelie</td><td>Torgersen</td><td>37.8</td><td>17.3</td><td>180</td><td>3700</td><td>NA    </td><td>2007</td></tr>\n",
              "\t<tr><td>Adelie</td><td>Torgersen</td><td>41.1</td><td>17.6</td><td>182</td><td>3200</td><td>female</td><td>2007</td></tr>\n",
              "\t<tr><td>Adelie</td><td>Torgersen</td><td>38.6</td><td>21.2</td><td>191</td><td>3800</td><td>male  </td><td>2007</td></tr>\n",
              "\t<tr><td>Adelie</td><td>Torgersen</td><td>34.6</td><td>21.1</td><td>198</td><td>4400</td><td>male  </td><td>2007</td></tr>\n",
              "\t<tr><td>Adelie</td><td>Torgersen</td><td>36.6</td><td>17.8</td><td>185</td><td>3700</td><td>female</td><td>2007</td></tr>\n",
              "\t<tr><td>Adelie</td><td>Torgersen</td><td>38.7</td><td>19.0</td><td>195</td><td>3450</td><td>female</td><td>2007</td></tr>\n",
              "\t<tr><td>Adelie</td><td>Torgersen</td><td>42.5</td><td>20.7</td><td>197</td><td>4500</td><td>male  </td><td>2007</td></tr>\n",
              "\t<tr><td>Adelie</td><td>Torgersen</td><td>34.4</td><td>18.4</td><td>184</td><td>3325</td><td>female</td><td>2007</td></tr>\n",
              "\t<tr><td>Adelie</td><td>Torgersen</td><td>46.0</td><td>21.5</td><td>194</td><td>4200</td><td>male  </td><td>2007</td></tr>\n",
              "\t<tr><td>Adelie</td><td>Biscoe   </td><td>37.8</td><td>18.3</td><td>174</td><td>3400</td><td>female</td><td>2007</td></tr>\n",
              "\t<tr><td>Adelie</td><td>Biscoe   </td><td>37.7</td><td>18.7</td><td>180</td><td>3600</td><td>male  </td><td>2007</td></tr>\n",
              "\t<tr><td>Adelie</td><td>Biscoe   </td><td>35.9</td><td>19.2</td><td>189</td><td>3800</td><td>female</td><td>2007</td></tr>\n",
              "\t<tr><td>Adelie</td><td>Biscoe   </td><td>38.2</td><td>18.1</td><td>185</td><td>3950</td><td>male  </td><td>2007</td></tr>\n",
              "\t<tr><td>Adelie</td><td>Biscoe   </td><td>38.8</td><td>17.2</td><td>180</td><td>3800</td><td>male  </td><td>2007</td></tr>\n",
              "\t<tr><td>Adelie</td><td>Biscoe   </td><td>35.3</td><td>18.9</td><td>187</td><td>3800</td><td>female</td><td>2007</td></tr>\n",
              "\t<tr><td>Adelie</td><td>Biscoe   </td><td>40.6</td><td>18.6</td><td>183</td><td>3550</td><td>male  </td><td>2007</td></tr>\n",
              "\t<tr><td>Adelie</td><td>Biscoe   </td><td>40.5</td><td>17.9</td><td>187</td><td>3200</td><td>female</td><td>2007</td></tr>\n",
              "\t<tr><td>Adelie</td><td>Biscoe   </td><td>37.9</td><td>18.6</td><td>172</td><td>3150</td><td>female</td><td>2007</td></tr>\n",
              "\t<tr><td>Adelie</td><td>Biscoe   </td><td>40.5</td><td>18.9</td><td>180</td><td>3950</td><td>male  </td><td>2007</td></tr>\n",
              "\t<tr><td>⋮</td><td>⋮</td><td>⋮</td><td>⋮</td><td>⋮</td><td>⋮</td><td>⋮</td><td>⋮</td></tr>\n",
              "\t<tr><td>Chinstrap</td><td>Dream</td><td>46.9</td><td>16.6</td><td>192</td><td>2700</td><td>female</td><td>2008</td></tr>\n",
              "\t<tr><td>Chinstrap</td><td>Dream</td><td>53.5</td><td>19.9</td><td>205</td><td>4500</td><td>male  </td><td>2008</td></tr>\n",
              "\t<tr><td>Chinstrap</td><td>Dream</td><td>49.0</td><td>19.5</td><td>210</td><td>3950</td><td>male  </td><td>2008</td></tr>\n",
              "\t<tr><td>Chinstrap</td><td>Dream</td><td>46.2</td><td>17.5</td><td>187</td><td>3650</td><td>female</td><td>2008</td></tr>\n",
              "\t<tr><td>Chinstrap</td><td>Dream</td><td>50.9</td><td>19.1</td><td>196</td><td>3550</td><td>male  </td><td>2008</td></tr>\n",
              "\t<tr><td>Chinstrap</td><td>Dream</td><td>45.5</td><td>17.0</td><td>196</td><td>3500</td><td>female</td><td>2008</td></tr>\n",
              "\t<tr><td>Chinstrap</td><td>Dream</td><td>50.9</td><td>17.9</td><td>196</td><td>3675</td><td>female</td><td>2009</td></tr>\n",
              "\t<tr><td>Chinstrap</td><td>Dream</td><td>50.8</td><td>18.5</td><td>201</td><td>4450</td><td>male  </td><td>2009</td></tr>\n",
              "\t<tr><td>Chinstrap</td><td>Dream</td><td>50.1</td><td>17.9</td><td>190</td><td>3400</td><td>female</td><td>2009</td></tr>\n",
              "\t<tr><td>Chinstrap</td><td>Dream</td><td>49.0</td><td>19.6</td><td>212</td><td>4300</td><td>male  </td><td>2009</td></tr>\n",
              "\t<tr><td>Chinstrap</td><td>Dream</td><td>51.5</td><td>18.7</td><td>187</td><td>3250</td><td>male  </td><td>2009</td></tr>\n",
              "\t<tr><td>Chinstrap</td><td>Dream</td><td>49.8</td><td>17.3</td><td>198</td><td>3675</td><td>female</td><td>2009</td></tr>\n",
              "\t<tr><td>Chinstrap</td><td>Dream</td><td>48.1</td><td>16.4</td><td>199</td><td>3325</td><td>female</td><td>2009</td></tr>\n",
              "\t<tr><td>Chinstrap</td><td>Dream</td><td>51.4</td><td>19.0</td><td>201</td><td>3950</td><td>male  </td><td>2009</td></tr>\n",
              "\t<tr><td>Chinstrap</td><td>Dream</td><td>45.7</td><td>17.3</td><td>193</td><td>3600</td><td>female</td><td>2009</td></tr>\n",
              "\t<tr><td>Chinstrap</td><td>Dream</td><td>50.7</td><td>19.7</td><td>203</td><td>4050</td><td>male  </td><td>2009</td></tr>\n",
              "\t<tr><td>Chinstrap</td><td>Dream</td><td>42.5</td><td>17.3</td><td>187</td><td>3350</td><td>female</td><td>2009</td></tr>\n",
              "\t<tr><td>Chinstrap</td><td>Dream</td><td>52.2</td><td>18.8</td><td>197</td><td>3450</td><td>male  </td><td>2009</td></tr>\n",
              "\t<tr><td>Chinstrap</td><td>Dream</td><td>45.2</td><td>16.6</td><td>191</td><td>3250</td><td>female</td><td>2009</td></tr>\n",
              "\t<tr><td>Chinstrap</td><td>Dream</td><td>49.3</td><td>19.9</td><td>203</td><td>4050</td><td>male  </td><td>2009</td></tr>\n",
              "\t<tr><td>Chinstrap</td><td>Dream</td><td>50.2</td><td>18.8</td><td>202</td><td>3800</td><td>male  </td><td>2009</td></tr>\n",
              "\t<tr><td>Chinstrap</td><td>Dream</td><td>45.6</td><td>19.4</td><td>194</td><td>3525</td><td>female</td><td>2009</td></tr>\n",
              "\t<tr><td>Chinstrap</td><td>Dream</td><td>51.9</td><td>19.5</td><td>206</td><td>3950</td><td>male  </td><td>2009</td></tr>\n",
              "\t<tr><td>Chinstrap</td><td>Dream</td><td>46.8</td><td>16.5</td><td>189</td><td>3650</td><td>female</td><td>2009</td></tr>\n",
              "\t<tr><td>Chinstrap</td><td>Dream</td><td>45.7</td><td>17.0</td><td>195</td><td>3650</td><td>female</td><td>2009</td></tr>\n",
              "\t<tr><td>Chinstrap</td><td>Dream</td><td>55.8</td><td>19.8</td><td>207</td><td>4000</td><td>male  </td><td>2009</td></tr>\n",
              "\t<tr><td>Chinstrap</td><td>Dream</td><td>43.5</td><td>18.1</td><td>202</td><td>3400</td><td>female</td><td>2009</td></tr>\n",
              "\t<tr><td>Chinstrap</td><td>Dream</td><td>49.6</td><td>18.2</td><td>193</td><td>3775</td><td>male  </td><td>2009</td></tr>\n",
              "\t<tr><td>Chinstrap</td><td>Dream</td><td>50.8</td><td>19.0</td><td>210</td><td>4100</td><td>male  </td><td>2009</td></tr>\n",
              "\t<tr><td>Chinstrap</td><td>Dream</td><td>50.2</td><td>18.7</td><td>198</td><td>3775</td><td>female</td><td>2009</td></tr>\n",
              "</tbody>\n",
              "</table>\n"
            ],
            "text/markdown": "\nA tibble: 344 × 8\n\n| species &lt;fct&gt; | island &lt;fct&gt; | bill_length_mm &lt;dbl&gt; | bill_depth_mm &lt;dbl&gt; | flipper_length_mm &lt;int&gt; | body_mass_g &lt;int&gt; | sex &lt;fct&gt; | year &lt;int&gt; |\n|---|---|---|---|---|---|---|---|\n| Adelie | Torgersen | 39.1 | 18.7 | 181 | 3750 | male   | 2007 |\n| Adelie | Torgersen | 39.5 | 17.4 | 186 | 3800 | female | 2007 |\n| Adelie | Torgersen | 40.3 | 18.0 | 195 | 3250 | female | 2007 |\n| Adelie | Torgersen |   NA |   NA |  NA |   NA | NA     | 2007 |\n| Adelie | Torgersen | 36.7 | 19.3 | 193 | 3450 | female | 2007 |\n| Adelie | Torgersen | 39.3 | 20.6 | 190 | 3650 | male   | 2007 |\n| Adelie | Torgersen | 38.9 | 17.8 | 181 | 3625 | female | 2007 |\n| Adelie | Torgersen | 39.2 | 19.6 | 195 | 4675 | male   | 2007 |\n| Adelie | Torgersen | 34.1 | 18.1 | 193 | 3475 | NA     | 2007 |\n| Adelie | Torgersen | 42.0 | 20.2 | 190 | 4250 | NA     | 2007 |\n| Adelie | Torgersen | 37.8 | 17.1 | 186 | 3300 | NA     | 2007 |\n| Adelie | Torgersen | 37.8 | 17.3 | 180 | 3700 | NA     | 2007 |\n| Adelie | Torgersen | 41.1 | 17.6 | 182 | 3200 | female | 2007 |\n| Adelie | Torgersen | 38.6 | 21.2 | 191 | 3800 | male   | 2007 |\n| Adelie | Torgersen | 34.6 | 21.1 | 198 | 4400 | male   | 2007 |\n| Adelie | Torgersen | 36.6 | 17.8 | 185 | 3700 | female | 2007 |\n| Adelie | Torgersen | 38.7 | 19.0 | 195 | 3450 | female | 2007 |\n| Adelie | Torgersen | 42.5 | 20.7 | 197 | 4500 | male   | 2007 |\n| Adelie | Torgersen | 34.4 | 18.4 | 184 | 3325 | female | 2007 |\n| Adelie | Torgersen | 46.0 | 21.5 | 194 | 4200 | male   | 2007 |\n| Adelie | Biscoe    | 37.8 | 18.3 | 174 | 3400 | female | 2007 |\n| Adelie | Biscoe    | 37.7 | 18.7 | 180 | 3600 | male   | 2007 |\n| Adelie | Biscoe    | 35.9 | 19.2 | 189 | 3800 | female | 2007 |\n| Adelie | Biscoe    | 38.2 | 18.1 | 185 | 3950 | male   | 2007 |\n| Adelie | Biscoe    | 38.8 | 17.2 | 180 | 3800 | male   | 2007 |\n| Adelie | Biscoe    | 35.3 | 18.9 | 187 | 3800 | female | 2007 |\n| Adelie | Biscoe    | 40.6 | 18.6 | 183 | 3550 | male   | 2007 |\n| Adelie | Biscoe    | 40.5 | 17.9 | 187 | 3200 | female | 2007 |\n| Adelie | Biscoe    | 37.9 | 18.6 | 172 | 3150 | female | 2007 |\n| Adelie | Biscoe    | 40.5 | 18.9 | 180 | 3950 | male   | 2007 |\n| ⋮ | ⋮ | ⋮ | ⋮ | ⋮ | ⋮ | ⋮ | ⋮ |\n| Chinstrap | Dream | 46.9 | 16.6 | 192 | 2700 | female | 2008 |\n| Chinstrap | Dream | 53.5 | 19.9 | 205 | 4500 | male   | 2008 |\n| Chinstrap | Dream | 49.0 | 19.5 | 210 | 3950 | male   | 2008 |\n| Chinstrap | Dream | 46.2 | 17.5 | 187 | 3650 | female | 2008 |\n| Chinstrap | Dream | 50.9 | 19.1 | 196 | 3550 | male   | 2008 |\n| Chinstrap | Dream | 45.5 | 17.0 | 196 | 3500 | female | 2008 |\n| Chinstrap | Dream | 50.9 | 17.9 | 196 | 3675 | female | 2009 |\n| Chinstrap | Dream | 50.8 | 18.5 | 201 | 4450 | male   | 2009 |\n| Chinstrap | Dream | 50.1 | 17.9 | 190 | 3400 | female | 2009 |\n| Chinstrap | Dream | 49.0 | 19.6 | 212 | 4300 | male   | 2009 |\n| Chinstrap | Dream | 51.5 | 18.7 | 187 | 3250 | male   | 2009 |\n| Chinstrap | Dream | 49.8 | 17.3 | 198 | 3675 | female | 2009 |\n| Chinstrap | Dream | 48.1 | 16.4 | 199 | 3325 | female | 2009 |\n| Chinstrap | Dream | 51.4 | 19.0 | 201 | 3950 | male   | 2009 |\n| Chinstrap | Dream | 45.7 | 17.3 | 193 | 3600 | female | 2009 |\n| Chinstrap | Dream | 50.7 | 19.7 | 203 | 4050 | male   | 2009 |\n| Chinstrap | Dream | 42.5 | 17.3 | 187 | 3350 | female | 2009 |\n| Chinstrap | Dream | 52.2 | 18.8 | 197 | 3450 | male   | 2009 |\n| Chinstrap | Dream | 45.2 | 16.6 | 191 | 3250 | female | 2009 |\n| Chinstrap | Dream | 49.3 | 19.9 | 203 | 4050 | male   | 2009 |\n| Chinstrap | Dream | 50.2 | 18.8 | 202 | 3800 | male   | 2009 |\n| Chinstrap | Dream | 45.6 | 19.4 | 194 | 3525 | female | 2009 |\n| Chinstrap | Dream | 51.9 | 19.5 | 206 | 3950 | male   | 2009 |\n| Chinstrap | Dream | 46.8 | 16.5 | 189 | 3650 | female | 2009 |\n| Chinstrap | Dream | 45.7 | 17.0 | 195 | 3650 | female | 2009 |\n| Chinstrap | Dream | 55.8 | 19.8 | 207 | 4000 | male   | 2009 |\n| Chinstrap | Dream | 43.5 | 18.1 | 202 | 3400 | female | 2009 |\n| Chinstrap | Dream | 49.6 | 18.2 | 193 | 3775 | male   | 2009 |\n| Chinstrap | Dream | 50.8 | 19.0 | 210 | 4100 | male   | 2009 |\n| Chinstrap | Dream | 50.2 | 18.7 | 198 | 3775 | female | 2009 |\n\n",
            "text/latex": "A tibble: 344 × 8\n\\begin{tabular}{llllllll}\n species & island & bill\\_length\\_mm & bill\\_depth\\_mm & flipper\\_length\\_mm & body\\_mass\\_g & sex & year\\\\\n <fct> & <fct> & <dbl> & <dbl> & <int> & <int> & <fct> & <int>\\\\\n\\hline\n\t Adelie & Torgersen & 39.1 & 18.7 & 181 & 3750 & male   & 2007\\\\\n\t Adelie & Torgersen & 39.5 & 17.4 & 186 & 3800 & female & 2007\\\\\n\t Adelie & Torgersen & 40.3 & 18.0 & 195 & 3250 & female & 2007\\\\\n\t Adelie & Torgersen &   NA &   NA &  NA &   NA & NA     & 2007\\\\\n\t Adelie & Torgersen & 36.7 & 19.3 & 193 & 3450 & female & 2007\\\\\n\t Adelie & Torgersen & 39.3 & 20.6 & 190 & 3650 & male   & 2007\\\\\n\t Adelie & Torgersen & 38.9 & 17.8 & 181 & 3625 & female & 2007\\\\\n\t Adelie & Torgersen & 39.2 & 19.6 & 195 & 4675 & male   & 2007\\\\\n\t Adelie & Torgersen & 34.1 & 18.1 & 193 & 3475 & NA     & 2007\\\\\n\t Adelie & Torgersen & 42.0 & 20.2 & 190 & 4250 & NA     & 2007\\\\\n\t Adelie & Torgersen & 37.8 & 17.1 & 186 & 3300 & NA     & 2007\\\\\n\t Adelie & Torgersen & 37.8 & 17.3 & 180 & 3700 & NA     & 2007\\\\\n\t Adelie & Torgersen & 41.1 & 17.6 & 182 & 3200 & female & 2007\\\\\n\t Adelie & Torgersen & 38.6 & 21.2 & 191 & 3800 & male   & 2007\\\\\n\t Adelie & Torgersen & 34.6 & 21.1 & 198 & 4400 & male   & 2007\\\\\n\t Adelie & Torgersen & 36.6 & 17.8 & 185 & 3700 & female & 2007\\\\\n\t Adelie & Torgersen & 38.7 & 19.0 & 195 & 3450 & female & 2007\\\\\n\t Adelie & Torgersen & 42.5 & 20.7 & 197 & 4500 & male   & 2007\\\\\n\t Adelie & Torgersen & 34.4 & 18.4 & 184 & 3325 & female & 2007\\\\\n\t Adelie & Torgersen & 46.0 & 21.5 & 194 & 4200 & male   & 2007\\\\\n\t Adelie & Biscoe    & 37.8 & 18.3 & 174 & 3400 & female & 2007\\\\\n\t Adelie & Biscoe    & 37.7 & 18.7 & 180 & 3600 & male   & 2007\\\\\n\t Adelie & Biscoe    & 35.9 & 19.2 & 189 & 3800 & female & 2007\\\\\n\t Adelie & Biscoe    & 38.2 & 18.1 & 185 & 3950 & male   & 2007\\\\\n\t Adelie & Biscoe    & 38.8 & 17.2 & 180 & 3800 & male   & 2007\\\\\n\t Adelie & Biscoe    & 35.3 & 18.9 & 187 & 3800 & female & 2007\\\\\n\t Adelie & Biscoe    & 40.6 & 18.6 & 183 & 3550 & male   & 2007\\\\\n\t Adelie & Biscoe    & 40.5 & 17.9 & 187 & 3200 & female & 2007\\\\\n\t Adelie & Biscoe    & 37.9 & 18.6 & 172 & 3150 & female & 2007\\\\\n\t Adelie & Biscoe    & 40.5 & 18.9 & 180 & 3950 & male   & 2007\\\\\n\t ⋮ & ⋮ & ⋮ & ⋮ & ⋮ & ⋮ & ⋮ & ⋮\\\\\n\t Chinstrap & Dream & 46.9 & 16.6 & 192 & 2700 & female & 2008\\\\\n\t Chinstrap & Dream & 53.5 & 19.9 & 205 & 4500 & male   & 2008\\\\\n\t Chinstrap & Dream & 49.0 & 19.5 & 210 & 3950 & male   & 2008\\\\\n\t Chinstrap & Dream & 46.2 & 17.5 & 187 & 3650 & female & 2008\\\\\n\t Chinstrap & Dream & 50.9 & 19.1 & 196 & 3550 & male   & 2008\\\\\n\t Chinstrap & Dream & 45.5 & 17.0 & 196 & 3500 & female & 2008\\\\\n\t Chinstrap & Dream & 50.9 & 17.9 & 196 & 3675 & female & 2009\\\\\n\t Chinstrap & Dream & 50.8 & 18.5 & 201 & 4450 & male   & 2009\\\\\n\t Chinstrap & Dream & 50.1 & 17.9 & 190 & 3400 & female & 2009\\\\\n\t Chinstrap & Dream & 49.0 & 19.6 & 212 & 4300 & male   & 2009\\\\\n\t Chinstrap & Dream & 51.5 & 18.7 & 187 & 3250 & male   & 2009\\\\\n\t Chinstrap & Dream & 49.8 & 17.3 & 198 & 3675 & female & 2009\\\\\n\t Chinstrap & Dream & 48.1 & 16.4 & 199 & 3325 & female & 2009\\\\\n\t Chinstrap & Dream & 51.4 & 19.0 & 201 & 3950 & male   & 2009\\\\\n\t Chinstrap & Dream & 45.7 & 17.3 & 193 & 3600 & female & 2009\\\\\n\t Chinstrap & Dream & 50.7 & 19.7 & 203 & 4050 & male   & 2009\\\\\n\t Chinstrap & Dream & 42.5 & 17.3 & 187 & 3350 & female & 2009\\\\\n\t Chinstrap & Dream & 52.2 & 18.8 & 197 & 3450 & male   & 2009\\\\\n\t Chinstrap & Dream & 45.2 & 16.6 & 191 & 3250 & female & 2009\\\\\n\t Chinstrap & Dream & 49.3 & 19.9 & 203 & 4050 & male   & 2009\\\\\n\t Chinstrap & Dream & 50.2 & 18.8 & 202 & 3800 & male   & 2009\\\\\n\t Chinstrap & Dream & 45.6 & 19.4 & 194 & 3525 & female & 2009\\\\\n\t Chinstrap & Dream & 51.9 & 19.5 & 206 & 3950 & male   & 2009\\\\\n\t Chinstrap & Dream & 46.8 & 16.5 & 189 & 3650 & female & 2009\\\\\n\t Chinstrap & Dream & 45.7 & 17.0 & 195 & 3650 & female & 2009\\\\\n\t Chinstrap & Dream & 55.8 & 19.8 & 207 & 4000 & male   & 2009\\\\\n\t Chinstrap & Dream & 43.5 & 18.1 & 202 & 3400 & female & 2009\\\\\n\t Chinstrap & Dream & 49.6 & 18.2 & 193 & 3775 & male   & 2009\\\\\n\t Chinstrap & Dream & 50.8 & 19.0 & 210 & 4100 & male   & 2009\\\\\n\t Chinstrap & Dream & 50.2 & 18.7 & 198 & 3775 & female & 2009\\\\\n\\end{tabular}\n",
            "text/plain": [
              "    species   island    bill_length_mm bill_depth_mm flipper_length_mm\n",
              "1   Adelie    Torgersen 39.1           18.7          181              \n",
              "2   Adelie    Torgersen 39.5           17.4          186              \n",
              "3   Adelie    Torgersen 40.3           18.0          195              \n",
              "4   Adelie    Torgersen   NA             NA           NA              \n",
              "5   Adelie    Torgersen 36.7           19.3          193              \n",
              "6   Adelie    Torgersen 39.3           20.6          190              \n",
              "7   Adelie    Torgersen 38.9           17.8          181              \n",
              "8   Adelie    Torgersen 39.2           19.6          195              \n",
              "9   Adelie    Torgersen 34.1           18.1          193              \n",
              "10  Adelie    Torgersen 42.0           20.2          190              \n",
              "11  Adelie    Torgersen 37.8           17.1          186              \n",
              "12  Adelie    Torgersen 37.8           17.3          180              \n",
              "13  Adelie    Torgersen 41.1           17.6          182              \n",
              "14  Adelie    Torgersen 38.6           21.2          191              \n",
              "15  Adelie    Torgersen 34.6           21.1          198              \n",
              "16  Adelie    Torgersen 36.6           17.8          185              \n",
              "17  Adelie    Torgersen 38.7           19.0          195              \n",
              "18  Adelie    Torgersen 42.5           20.7          197              \n",
              "19  Adelie    Torgersen 34.4           18.4          184              \n",
              "20  Adelie    Torgersen 46.0           21.5          194              \n",
              "21  Adelie    Biscoe    37.8           18.3          174              \n",
              "22  Adelie    Biscoe    37.7           18.7          180              \n",
              "23  Adelie    Biscoe    35.9           19.2          189              \n",
              "24  Adelie    Biscoe    38.2           18.1          185              \n",
              "25  Adelie    Biscoe    38.8           17.2          180              \n",
              "26  Adelie    Biscoe    35.3           18.9          187              \n",
              "27  Adelie    Biscoe    40.6           18.6          183              \n",
              "28  Adelie    Biscoe    40.5           17.9          187              \n",
              "29  Adelie    Biscoe    37.9           18.6          172              \n",
              "30  Adelie    Biscoe    40.5           18.9          180              \n",
              "⋮   ⋮         ⋮         ⋮              ⋮             ⋮                \n",
              "315 Chinstrap Dream     46.9           16.6          192              \n",
              "316 Chinstrap Dream     53.5           19.9          205              \n",
              "317 Chinstrap Dream     49.0           19.5          210              \n",
              "318 Chinstrap Dream     46.2           17.5          187              \n",
              "319 Chinstrap Dream     50.9           19.1          196              \n",
              "320 Chinstrap Dream     45.5           17.0          196              \n",
              "321 Chinstrap Dream     50.9           17.9          196              \n",
              "322 Chinstrap Dream     50.8           18.5          201              \n",
              "323 Chinstrap Dream     50.1           17.9          190              \n",
              "324 Chinstrap Dream     49.0           19.6          212              \n",
              "325 Chinstrap Dream     51.5           18.7          187              \n",
              "326 Chinstrap Dream     49.8           17.3          198              \n",
              "327 Chinstrap Dream     48.1           16.4          199              \n",
              "328 Chinstrap Dream     51.4           19.0          201              \n",
              "329 Chinstrap Dream     45.7           17.3          193              \n",
              "330 Chinstrap Dream     50.7           19.7          203              \n",
              "331 Chinstrap Dream     42.5           17.3          187              \n",
              "332 Chinstrap Dream     52.2           18.8          197              \n",
              "333 Chinstrap Dream     45.2           16.6          191              \n",
              "334 Chinstrap Dream     49.3           19.9          203              \n",
              "335 Chinstrap Dream     50.2           18.8          202              \n",
              "336 Chinstrap Dream     45.6           19.4          194              \n",
              "337 Chinstrap Dream     51.9           19.5          206              \n",
              "338 Chinstrap Dream     46.8           16.5          189              \n",
              "339 Chinstrap Dream     45.7           17.0          195              \n",
              "340 Chinstrap Dream     55.8           19.8          207              \n",
              "341 Chinstrap Dream     43.5           18.1          202              \n",
              "342 Chinstrap Dream     49.6           18.2          193              \n",
              "343 Chinstrap Dream     50.8           19.0          210              \n",
              "344 Chinstrap Dream     50.2           18.7          198              \n",
              "    body_mass_g sex    year\n",
              "1   3750        male   2007\n",
              "2   3800        female 2007\n",
              "3   3250        female 2007\n",
              "4     NA        NA     2007\n",
              "5   3450        female 2007\n",
              "6   3650        male   2007\n",
              "7   3625        female 2007\n",
              "8   4675        male   2007\n",
              "9   3475        NA     2007\n",
              "10  4250        NA     2007\n",
              "11  3300        NA     2007\n",
              "12  3700        NA     2007\n",
              "13  3200        female 2007\n",
              "14  3800        male   2007\n",
              "15  4400        male   2007\n",
              "16  3700        female 2007\n",
              "17  3450        female 2007\n",
              "18  4500        male   2007\n",
              "19  3325        female 2007\n",
              "20  4200        male   2007\n",
              "21  3400        female 2007\n",
              "22  3600        male   2007\n",
              "23  3800        female 2007\n",
              "24  3950        male   2007\n",
              "25  3800        male   2007\n",
              "26  3800        female 2007\n",
              "27  3550        male   2007\n",
              "28  3200        female 2007\n",
              "29  3150        female 2007\n",
              "30  3950        male   2007\n",
              "⋮   ⋮           ⋮      ⋮   \n",
              "315 2700        female 2008\n",
              "316 4500        male   2008\n",
              "317 3950        male   2008\n",
              "318 3650        female 2008\n",
              "319 3550        male   2008\n",
              "320 3500        female 2008\n",
              "321 3675        female 2009\n",
              "322 4450        male   2009\n",
              "323 3400        female 2009\n",
              "324 4300        male   2009\n",
              "325 3250        male   2009\n",
              "326 3675        female 2009\n",
              "327 3325        female 2009\n",
              "328 3950        male   2009\n",
              "329 3600        female 2009\n",
              "330 4050        male   2009\n",
              "331 3350        female 2009\n",
              "332 3450        male   2009\n",
              "333 3250        female 2009\n",
              "334 4050        male   2009\n",
              "335 3800        male   2009\n",
              "336 3525        female 2009\n",
              "337 3950        male   2009\n",
              "338 3650        female 2009\n",
              "339 3650        female 2009\n",
              "340 4000        male   2009\n",
              "341 3400        female 2009\n",
              "342 3775        male   2009\n",
              "343 4100        male   2009\n",
              "344 3775        female 2009"
            ]
          },
          "metadata": {}
        }
      ]
    },
    {
      "cell_type": "markdown",
      "source": [
        "To select specific coloumns from the table:"
      ],
      "metadata": {
        "id": "C5I8eZNUmvHN"
      }
    },
    {
      "cell_type": "code",
      "source": [
        "penguins %>%\n",
        "  select(species, island, body_mass_g)"
      ],
      "metadata": {
        "colab": {
          "base_uri": "https://localhost:8080/",
          "height": 1000
        },
        "id": "hHQ8xYMnm8S_",
        "outputId": "dbeae428-e812-4401-eb97-d60df7c8be66"
      },
      "execution_count": 14,
      "outputs": [
        {
          "output_type": "display_data",
          "data": {
            "text/html": [
              "<table class=\"dataframe\">\n",
              "<caption>A tibble: 344 × 3</caption>\n",
              "<thead>\n",
              "\t<tr><th scope=col>species</th><th scope=col>island</th><th scope=col>body_mass_g</th></tr>\n",
              "\t<tr><th scope=col>&lt;fct&gt;</th><th scope=col>&lt;fct&gt;</th><th scope=col>&lt;int&gt;</th></tr>\n",
              "</thead>\n",
              "<tbody>\n",
              "\t<tr><td>Adelie</td><td>Torgersen</td><td>3750</td></tr>\n",
              "\t<tr><td>Adelie</td><td>Torgersen</td><td>3800</td></tr>\n",
              "\t<tr><td>Adelie</td><td>Torgersen</td><td>3250</td></tr>\n",
              "\t<tr><td>Adelie</td><td>Torgersen</td><td>  NA</td></tr>\n",
              "\t<tr><td>Adelie</td><td>Torgersen</td><td>3450</td></tr>\n",
              "\t<tr><td>Adelie</td><td>Torgersen</td><td>3650</td></tr>\n",
              "\t<tr><td>Adelie</td><td>Torgersen</td><td>3625</td></tr>\n",
              "\t<tr><td>Adelie</td><td>Torgersen</td><td>4675</td></tr>\n",
              "\t<tr><td>Adelie</td><td>Torgersen</td><td>3475</td></tr>\n",
              "\t<tr><td>Adelie</td><td>Torgersen</td><td>4250</td></tr>\n",
              "\t<tr><td>Adelie</td><td>Torgersen</td><td>3300</td></tr>\n",
              "\t<tr><td>Adelie</td><td>Torgersen</td><td>3700</td></tr>\n",
              "\t<tr><td>Adelie</td><td>Torgersen</td><td>3200</td></tr>\n",
              "\t<tr><td>Adelie</td><td>Torgersen</td><td>3800</td></tr>\n",
              "\t<tr><td>Adelie</td><td>Torgersen</td><td>4400</td></tr>\n",
              "\t<tr><td>Adelie</td><td>Torgersen</td><td>3700</td></tr>\n",
              "\t<tr><td>Adelie</td><td>Torgersen</td><td>3450</td></tr>\n",
              "\t<tr><td>Adelie</td><td>Torgersen</td><td>4500</td></tr>\n",
              "\t<tr><td>Adelie</td><td>Torgersen</td><td>3325</td></tr>\n",
              "\t<tr><td>Adelie</td><td>Torgersen</td><td>4200</td></tr>\n",
              "\t<tr><td>Adelie</td><td>Biscoe   </td><td>3400</td></tr>\n",
              "\t<tr><td>Adelie</td><td>Biscoe   </td><td>3600</td></tr>\n",
              "\t<tr><td>Adelie</td><td>Biscoe   </td><td>3800</td></tr>\n",
              "\t<tr><td>Adelie</td><td>Biscoe   </td><td>3950</td></tr>\n",
              "\t<tr><td>Adelie</td><td>Biscoe   </td><td>3800</td></tr>\n",
              "\t<tr><td>Adelie</td><td>Biscoe   </td><td>3800</td></tr>\n",
              "\t<tr><td>Adelie</td><td>Biscoe   </td><td>3550</td></tr>\n",
              "\t<tr><td>Adelie</td><td>Biscoe   </td><td>3200</td></tr>\n",
              "\t<tr><td>Adelie</td><td>Biscoe   </td><td>3150</td></tr>\n",
              "\t<tr><td>Adelie</td><td>Biscoe   </td><td>3950</td></tr>\n",
              "\t<tr><td>⋮</td><td>⋮</td><td>⋮</td></tr>\n",
              "\t<tr><td>Chinstrap</td><td>Dream</td><td>2700</td></tr>\n",
              "\t<tr><td>Chinstrap</td><td>Dream</td><td>4500</td></tr>\n",
              "\t<tr><td>Chinstrap</td><td>Dream</td><td>3950</td></tr>\n",
              "\t<tr><td>Chinstrap</td><td>Dream</td><td>3650</td></tr>\n",
              "\t<tr><td>Chinstrap</td><td>Dream</td><td>3550</td></tr>\n",
              "\t<tr><td>Chinstrap</td><td>Dream</td><td>3500</td></tr>\n",
              "\t<tr><td>Chinstrap</td><td>Dream</td><td>3675</td></tr>\n",
              "\t<tr><td>Chinstrap</td><td>Dream</td><td>4450</td></tr>\n",
              "\t<tr><td>Chinstrap</td><td>Dream</td><td>3400</td></tr>\n",
              "\t<tr><td>Chinstrap</td><td>Dream</td><td>4300</td></tr>\n",
              "\t<tr><td>Chinstrap</td><td>Dream</td><td>3250</td></tr>\n",
              "\t<tr><td>Chinstrap</td><td>Dream</td><td>3675</td></tr>\n",
              "\t<tr><td>Chinstrap</td><td>Dream</td><td>3325</td></tr>\n",
              "\t<tr><td>Chinstrap</td><td>Dream</td><td>3950</td></tr>\n",
              "\t<tr><td>Chinstrap</td><td>Dream</td><td>3600</td></tr>\n",
              "\t<tr><td>Chinstrap</td><td>Dream</td><td>4050</td></tr>\n",
              "\t<tr><td>Chinstrap</td><td>Dream</td><td>3350</td></tr>\n",
              "\t<tr><td>Chinstrap</td><td>Dream</td><td>3450</td></tr>\n",
              "\t<tr><td>Chinstrap</td><td>Dream</td><td>3250</td></tr>\n",
              "\t<tr><td>Chinstrap</td><td>Dream</td><td>4050</td></tr>\n",
              "\t<tr><td>Chinstrap</td><td>Dream</td><td>3800</td></tr>\n",
              "\t<tr><td>Chinstrap</td><td>Dream</td><td>3525</td></tr>\n",
              "\t<tr><td>Chinstrap</td><td>Dream</td><td>3950</td></tr>\n",
              "\t<tr><td>Chinstrap</td><td>Dream</td><td>3650</td></tr>\n",
              "\t<tr><td>Chinstrap</td><td>Dream</td><td>3650</td></tr>\n",
              "\t<tr><td>Chinstrap</td><td>Dream</td><td>4000</td></tr>\n",
              "\t<tr><td>Chinstrap</td><td>Dream</td><td>3400</td></tr>\n",
              "\t<tr><td>Chinstrap</td><td>Dream</td><td>3775</td></tr>\n",
              "\t<tr><td>Chinstrap</td><td>Dream</td><td>4100</td></tr>\n",
              "\t<tr><td>Chinstrap</td><td>Dream</td><td>3775</td></tr>\n",
              "</tbody>\n",
              "</table>\n"
            ],
            "text/markdown": "\nA tibble: 344 × 3\n\n| species &lt;fct&gt; | island &lt;fct&gt; | body_mass_g &lt;int&gt; |\n|---|---|---|\n| Adelie | Torgersen | 3750 |\n| Adelie | Torgersen | 3800 |\n| Adelie | Torgersen | 3250 |\n| Adelie | Torgersen |   NA |\n| Adelie | Torgersen | 3450 |\n| Adelie | Torgersen | 3650 |\n| Adelie | Torgersen | 3625 |\n| Adelie | Torgersen | 4675 |\n| Adelie | Torgersen | 3475 |\n| Adelie | Torgersen | 4250 |\n| Adelie | Torgersen | 3300 |\n| Adelie | Torgersen | 3700 |\n| Adelie | Torgersen | 3200 |\n| Adelie | Torgersen | 3800 |\n| Adelie | Torgersen | 4400 |\n| Adelie | Torgersen | 3700 |\n| Adelie | Torgersen | 3450 |\n| Adelie | Torgersen | 4500 |\n| Adelie | Torgersen | 3325 |\n| Adelie | Torgersen | 4200 |\n| Adelie | Biscoe    | 3400 |\n| Adelie | Biscoe    | 3600 |\n| Adelie | Biscoe    | 3800 |\n| Adelie | Biscoe    | 3950 |\n| Adelie | Biscoe    | 3800 |\n| Adelie | Biscoe    | 3800 |\n| Adelie | Biscoe    | 3550 |\n| Adelie | Biscoe    | 3200 |\n| Adelie | Biscoe    | 3150 |\n| Adelie | Biscoe    | 3950 |\n| ⋮ | ⋮ | ⋮ |\n| Chinstrap | Dream | 2700 |\n| Chinstrap | Dream | 4500 |\n| Chinstrap | Dream | 3950 |\n| Chinstrap | Dream | 3650 |\n| Chinstrap | Dream | 3550 |\n| Chinstrap | Dream | 3500 |\n| Chinstrap | Dream | 3675 |\n| Chinstrap | Dream | 4450 |\n| Chinstrap | Dream | 3400 |\n| Chinstrap | Dream | 4300 |\n| Chinstrap | Dream | 3250 |\n| Chinstrap | Dream | 3675 |\n| Chinstrap | Dream | 3325 |\n| Chinstrap | Dream | 3950 |\n| Chinstrap | Dream | 3600 |\n| Chinstrap | Dream | 4050 |\n| Chinstrap | Dream | 3350 |\n| Chinstrap | Dream | 3450 |\n| Chinstrap | Dream | 3250 |\n| Chinstrap | Dream | 4050 |\n| Chinstrap | Dream | 3800 |\n| Chinstrap | Dream | 3525 |\n| Chinstrap | Dream | 3950 |\n| Chinstrap | Dream | 3650 |\n| Chinstrap | Dream | 3650 |\n| Chinstrap | Dream | 4000 |\n| Chinstrap | Dream | 3400 |\n| Chinstrap | Dream | 3775 |\n| Chinstrap | Dream | 4100 |\n| Chinstrap | Dream | 3775 |\n\n",
            "text/latex": "A tibble: 344 × 3\n\\begin{tabular}{lll}\n species & island & body\\_mass\\_g\\\\\n <fct> & <fct> & <int>\\\\\n\\hline\n\t Adelie & Torgersen & 3750\\\\\n\t Adelie & Torgersen & 3800\\\\\n\t Adelie & Torgersen & 3250\\\\\n\t Adelie & Torgersen &   NA\\\\\n\t Adelie & Torgersen & 3450\\\\\n\t Adelie & Torgersen & 3650\\\\\n\t Adelie & Torgersen & 3625\\\\\n\t Adelie & Torgersen & 4675\\\\\n\t Adelie & Torgersen & 3475\\\\\n\t Adelie & Torgersen & 4250\\\\\n\t Adelie & Torgersen & 3300\\\\\n\t Adelie & Torgersen & 3700\\\\\n\t Adelie & Torgersen & 3200\\\\\n\t Adelie & Torgersen & 3800\\\\\n\t Adelie & Torgersen & 4400\\\\\n\t Adelie & Torgersen & 3700\\\\\n\t Adelie & Torgersen & 3450\\\\\n\t Adelie & Torgersen & 4500\\\\\n\t Adelie & Torgersen & 3325\\\\\n\t Adelie & Torgersen & 4200\\\\\n\t Adelie & Biscoe    & 3400\\\\\n\t Adelie & Biscoe    & 3600\\\\\n\t Adelie & Biscoe    & 3800\\\\\n\t Adelie & Biscoe    & 3950\\\\\n\t Adelie & Biscoe    & 3800\\\\\n\t Adelie & Biscoe    & 3800\\\\\n\t Adelie & Biscoe    & 3550\\\\\n\t Adelie & Biscoe    & 3200\\\\\n\t Adelie & Biscoe    & 3150\\\\\n\t Adelie & Biscoe    & 3950\\\\\n\t ⋮ & ⋮ & ⋮\\\\\n\t Chinstrap & Dream & 2700\\\\\n\t Chinstrap & Dream & 4500\\\\\n\t Chinstrap & Dream & 3950\\\\\n\t Chinstrap & Dream & 3650\\\\\n\t Chinstrap & Dream & 3550\\\\\n\t Chinstrap & Dream & 3500\\\\\n\t Chinstrap & Dream & 3675\\\\\n\t Chinstrap & Dream & 4450\\\\\n\t Chinstrap & Dream & 3400\\\\\n\t Chinstrap & Dream & 4300\\\\\n\t Chinstrap & Dream & 3250\\\\\n\t Chinstrap & Dream & 3675\\\\\n\t Chinstrap & Dream & 3325\\\\\n\t Chinstrap & Dream & 3950\\\\\n\t Chinstrap & Dream & 3600\\\\\n\t Chinstrap & Dream & 4050\\\\\n\t Chinstrap & Dream & 3350\\\\\n\t Chinstrap & Dream & 3450\\\\\n\t Chinstrap & Dream & 3250\\\\\n\t Chinstrap & Dream & 4050\\\\\n\t Chinstrap & Dream & 3800\\\\\n\t Chinstrap & Dream & 3525\\\\\n\t Chinstrap & Dream & 3950\\\\\n\t Chinstrap & Dream & 3650\\\\\n\t Chinstrap & Dream & 3650\\\\\n\t Chinstrap & Dream & 4000\\\\\n\t Chinstrap & Dream & 3400\\\\\n\t Chinstrap & Dream & 3775\\\\\n\t Chinstrap & Dream & 4100\\\\\n\t Chinstrap & Dream & 3775\\\\\n\\end{tabular}\n",
            "text/plain": [
              "    species   island    body_mass_g\n",
              "1   Adelie    Torgersen 3750       \n",
              "2   Adelie    Torgersen 3800       \n",
              "3   Adelie    Torgersen 3250       \n",
              "4   Adelie    Torgersen   NA       \n",
              "5   Adelie    Torgersen 3450       \n",
              "6   Adelie    Torgersen 3650       \n",
              "7   Adelie    Torgersen 3625       \n",
              "8   Adelie    Torgersen 4675       \n",
              "9   Adelie    Torgersen 3475       \n",
              "10  Adelie    Torgersen 4250       \n",
              "11  Adelie    Torgersen 3300       \n",
              "12  Adelie    Torgersen 3700       \n",
              "13  Adelie    Torgersen 3200       \n",
              "14  Adelie    Torgersen 3800       \n",
              "15  Adelie    Torgersen 4400       \n",
              "16  Adelie    Torgersen 3700       \n",
              "17  Adelie    Torgersen 3450       \n",
              "18  Adelie    Torgersen 4500       \n",
              "19  Adelie    Torgersen 3325       \n",
              "20  Adelie    Torgersen 4200       \n",
              "21  Adelie    Biscoe    3400       \n",
              "22  Adelie    Biscoe    3600       \n",
              "23  Adelie    Biscoe    3800       \n",
              "24  Adelie    Biscoe    3950       \n",
              "25  Adelie    Biscoe    3800       \n",
              "26  Adelie    Biscoe    3800       \n",
              "27  Adelie    Biscoe    3550       \n",
              "28  Adelie    Biscoe    3200       \n",
              "29  Adelie    Biscoe    3150       \n",
              "30  Adelie    Biscoe    3950       \n",
              "⋮   ⋮         ⋮         ⋮          \n",
              "315 Chinstrap Dream     2700       \n",
              "316 Chinstrap Dream     4500       \n",
              "317 Chinstrap Dream     3950       \n",
              "318 Chinstrap Dream     3650       \n",
              "319 Chinstrap Dream     3550       \n",
              "320 Chinstrap Dream     3500       \n",
              "321 Chinstrap Dream     3675       \n",
              "322 Chinstrap Dream     4450       \n",
              "323 Chinstrap Dream     3400       \n",
              "324 Chinstrap Dream     4300       \n",
              "325 Chinstrap Dream     3250       \n",
              "326 Chinstrap Dream     3675       \n",
              "327 Chinstrap Dream     3325       \n",
              "328 Chinstrap Dream     3950       \n",
              "329 Chinstrap Dream     3600       \n",
              "330 Chinstrap Dream     4050       \n",
              "331 Chinstrap Dream     3350       \n",
              "332 Chinstrap Dream     3450       \n",
              "333 Chinstrap Dream     3250       \n",
              "334 Chinstrap Dream     4050       \n",
              "335 Chinstrap Dream     3800       \n",
              "336 Chinstrap Dream     3525       \n",
              "337 Chinstrap Dream     3950       \n",
              "338 Chinstrap Dream     3650       \n",
              "339 Chinstrap Dream     3650       \n",
              "340 Chinstrap Dream     4000       \n",
              "341 Chinstrap Dream     3400       \n",
              "342 Chinstrap Dream     3775       \n",
              "343 Chinstrap Dream     4100       \n",
              "344 Chinstrap Dream     3775       "
            ]
          },
          "metadata": {}
        }
      ]
    },
    {
      "cell_type": "markdown",
      "source": [
        "To filter/select specific rows:"
      ],
      "metadata": {
        "id": "aNkjMRI4pmHU"
      }
    },
    {
      "cell_type": "code",
      "source": [
        "penguins %>%\n",
        "  filter(body_mass_g > 3000)"
      ],
      "metadata": {
        "colab": {
          "base_uri": "https://localhost:8080/",
          "height": 1000
        },
        "id": "suobhCAwp_Xr",
        "outputId": "c98d7e48-e19f-405a-cd62-517d48a47bf8"
      },
      "execution_count": 16,
      "outputs": [
        {
          "output_type": "display_data",
          "data": {
            "text/html": [
              "<table class=\"dataframe\">\n",
              "<caption>A tibble: 331 × 8</caption>\n",
              "<thead>\n",
              "\t<tr><th scope=col>species</th><th scope=col>island</th><th scope=col>bill_length_mm</th><th scope=col>bill_depth_mm</th><th scope=col>flipper_length_mm</th><th scope=col>body_mass_g</th><th scope=col>sex</th><th scope=col>year</th></tr>\n",
              "\t<tr><th scope=col>&lt;fct&gt;</th><th scope=col>&lt;fct&gt;</th><th scope=col>&lt;dbl&gt;</th><th scope=col>&lt;dbl&gt;</th><th scope=col>&lt;int&gt;</th><th scope=col>&lt;int&gt;</th><th scope=col>&lt;fct&gt;</th><th scope=col>&lt;int&gt;</th></tr>\n",
              "</thead>\n",
              "<tbody>\n",
              "\t<tr><td>Adelie</td><td>Torgersen</td><td>39.1</td><td>18.7</td><td>181</td><td>3750</td><td>male  </td><td>2007</td></tr>\n",
              "\t<tr><td>Adelie</td><td>Torgersen</td><td>39.5</td><td>17.4</td><td>186</td><td>3800</td><td>female</td><td>2007</td></tr>\n",
              "\t<tr><td>Adelie</td><td>Torgersen</td><td>40.3</td><td>18.0</td><td>195</td><td>3250</td><td>female</td><td>2007</td></tr>\n",
              "\t<tr><td>Adelie</td><td>Torgersen</td><td>36.7</td><td>19.3</td><td>193</td><td>3450</td><td>female</td><td>2007</td></tr>\n",
              "\t<tr><td>Adelie</td><td>Torgersen</td><td>39.3</td><td>20.6</td><td>190</td><td>3650</td><td>male  </td><td>2007</td></tr>\n",
              "\t<tr><td>Adelie</td><td>Torgersen</td><td>38.9</td><td>17.8</td><td>181</td><td>3625</td><td>female</td><td>2007</td></tr>\n",
              "\t<tr><td>Adelie</td><td>Torgersen</td><td>39.2</td><td>19.6</td><td>195</td><td>4675</td><td>male  </td><td>2007</td></tr>\n",
              "\t<tr><td>Adelie</td><td>Torgersen</td><td>34.1</td><td>18.1</td><td>193</td><td>3475</td><td>NA    </td><td>2007</td></tr>\n",
              "\t<tr><td>Adelie</td><td>Torgersen</td><td>42.0</td><td>20.2</td><td>190</td><td>4250</td><td>NA    </td><td>2007</td></tr>\n",
              "\t<tr><td>Adelie</td><td>Torgersen</td><td>37.8</td><td>17.1</td><td>186</td><td>3300</td><td>NA    </td><td>2007</td></tr>\n",
              "\t<tr><td>Adelie</td><td>Torgersen</td><td>37.8</td><td>17.3</td><td>180</td><td>3700</td><td>NA    </td><td>2007</td></tr>\n",
              "\t<tr><td>Adelie</td><td>Torgersen</td><td>41.1</td><td>17.6</td><td>182</td><td>3200</td><td>female</td><td>2007</td></tr>\n",
              "\t<tr><td>Adelie</td><td>Torgersen</td><td>38.6</td><td>21.2</td><td>191</td><td>3800</td><td>male  </td><td>2007</td></tr>\n",
              "\t<tr><td>Adelie</td><td>Torgersen</td><td>34.6</td><td>21.1</td><td>198</td><td>4400</td><td>male  </td><td>2007</td></tr>\n",
              "\t<tr><td>Adelie</td><td>Torgersen</td><td>36.6</td><td>17.8</td><td>185</td><td>3700</td><td>female</td><td>2007</td></tr>\n",
              "\t<tr><td>Adelie</td><td>Torgersen</td><td>38.7</td><td>19.0</td><td>195</td><td>3450</td><td>female</td><td>2007</td></tr>\n",
              "\t<tr><td>Adelie</td><td>Torgersen</td><td>42.5</td><td>20.7</td><td>197</td><td>4500</td><td>male  </td><td>2007</td></tr>\n",
              "\t<tr><td>Adelie</td><td>Torgersen</td><td>34.4</td><td>18.4</td><td>184</td><td>3325</td><td>female</td><td>2007</td></tr>\n",
              "\t<tr><td>Adelie</td><td>Torgersen</td><td>46.0</td><td>21.5</td><td>194</td><td>4200</td><td>male  </td><td>2007</td></tr>\n",
              "\t<tr><td>Adelie</td><td>Biscoe   </td><td>37.8</td><td>18.3</td><td>174</td><td>3400</td><td>female</td><td>2007</td></tr>\n",
              "\t<tr><td>Adelie</td><td>Biscoe   </td><td>37.7</td><td>18.7</td><td>180</td><td>3600</td><td>male  </td><td>2007</td></tr>\n",
              "\t<tr><td>Adelie</td><td>Biscoe   </td><td>35.9</td><td>19.2</td><td>189</td><td>3800</td><td>female</td><td>2007</td></tr>\n",
              "\t<tr><td>Adelie</td><td>Biscoe   </td><td>38.2</td><td>18.1</td><td>185</td><td>3950</td><td>male  </td><td>2007</td></tr>\n",
              "\t<tr><td>Adelie</td><td>Biscoe   </td><td>38.8</td><td>17.2</td><td>180</td><td>3800</td><td>male  </td><td>2007</td></tr>\n",
              "\t<tr><td>Adelie</td><td>Biscoe   </td><td>35.3</td><td>18.9</td><td>187</td><td>3800</td><td>female</td><td>2007</td></tr>\n",
              "\t<tr><td>Adelie</td><td>Biscoe   </td><td>40.6</td><td>18.6</td><td>183</td><td>3550</td><td>male  </td><td>2007</td></tr>\n",
              "\t<tr><td>Adelie</td><td>Biscoe   </td><td>40.5</td><td>17.9</td><td>187</td><td>3200</td><td>female</td><td>2007</td></tr>\n",
              "\t<tr><td>Adelie</td><td>Biscoe   </td><td>37.9</td><td>18.6</td><td>172</td><td>3150</td><td>female</td><td>2007</td></tr>\n",
              "\t<tr><td>Adelie</td><td>Biscoe   </td><td>40.5</td><td>18.9</td><td>180</td><td>3950</td><td>male  </td><td>2007</td></tr>\n",
              "\t<tr><td>Adelie</td><td>Dream    </td><td>39.5</td><td>16.7</td><td>178</td><td>3250</td><td>female</td><td>2007</td></tr>\n",
              "\t<tr><td>⋮</td><td>⋮</td><td>⋮</td><td>⋮</td><td>⋮</td><td>⋮</td><td>⋮</td><td>⋮</td></tr>\n",
              "\t<tr><td>Chinstrap</td><td>Dream</td><td>52.0</td><td>20.7</td><td>210</td><td>4800</td><td>male  </td><td>2008</td></tr>\n",
              "\t<tr><td>Chinstrap</td><td>Dream</td><td>53.5</td><td>19.9</td><td>205</td><td>4500</td><td>male  </td><td>2008</td></tr>\n",
              "\t<tr><td>Chinstrap</td><td>Dream</td><td>49.0</td><td>19.5</td><td>210</td><td>3950</td><td>male  </td><td>2008</td></tr>\n",
              "\t<tr><td>Chinstrap</td><td>Dream</td><td>46.2</td><td>17.5</td><td>187</td><td>3650</td><td>female</td><td>2008</td></tr>\n",
              "\t<tr><td>Chinstrap</td><td>Dream</td><td>50.9</td><td>19.1</td><td>196</td><td>3550</td><td>male  </td><td>2008</td></tr>\n",
              "\t<tr><td>Chinstrap</td><td>Dream</td><td>45.5</td><td>17.0</td><td>196</td><td>3500</td><td>female</td><td>2008</td></tr>\n",
              "\t<tr><td>Chinstrap</td><td>Dream</td><td>50.9</td><td>17.9</td><td>196</td><td>3675</td><td>female</td><td>2009</td></tr>\n",
              "\t<tr><td>Chinstrap</td><td>Dream</td><td>50.8</td><td>18.5</td><td>201</td><td>4450</td><td>male  </td><td>2009</td></tr>\n",
              "\t<tr><td>Chinstrap</td><td>Dream</td><td>50.1</td><td>17.9</td><td>190</td><td>3400</td><td>female</td><td>2009</td></tr>\n",
              "\t<tr><td>Chinstrap</td><td>Dream</td><td>49.0</td><td>19.6</td><td>212</td><td>4300</td><td>male  </td><td>2009</td></tr>\n",
              "\t<tr><td>Chinstrap</td><td>Dream</td><td>51.5</td><td>18.7</td><td>187</td><td>3250</td><td>male  </td><td>2009</td></tr>\n",
              "\t<tr><td>Chinstrap</td><td>Dream</td><td>49.8</td><td>17.3</td><td>198</td><td>3675</td><td>female</td><td>2009</td></tr>\n",
              "\t<tr><td>Chinstrap</td><td>Dream</td><td>48.1</td><td>16.4</td><td>199</td><td>3325</td><td>female</td><td>2009</td></tr>\n",
              "\t<tr><td>Chinstrap</td><td>Dream</td><td>51.4</td><td>19.0</td><td>201</td><td>3950</td><td>male  </td><td>2009</td></tr>\n",
              "\t<tr><td>Chinstrap</td><td>Dream</td><td>45.7</td><td>17.3</td><td>193</td><td>3600</td><td>female</td><td>2009</td></tr>\n",
              "\t<tr><td>Chinstrap</td><td>Dream</td><td>50.7</td><td>19.7</td><td>203</td><td>4050</td><td>male  </td><td>2009</td></tr>\n",
              "\t<tr><td>Chinstrap</td><td>Dream</td><td>42.5</td><td>17.3</td><td>187</td><td>3350</td><td>female</td><td>2009</td></tr>\n",
              "\t<tr><td>Chinstrap</td><td>Dream</td><td>52.2</td><td>18.8</td><td>197</td><td>3450</td><td>male  </td><td>2009</td></tr>\n",
              "\t<tr><td>Chinstrap</td><td>Dream</td><td>45.2</td><td>16.6</td><td>191</td><td>3250</td><td>female</td><td>2009</td></tr>\n",
              "\t<tr><td>Chinstrap</td><td>Dream</td><td>49.3</td><td>19.9</td><td>203</td><td>4050</td><td>male  </td><td>2009</td></tr>\n",
              "\t<tr><td>Chinstrap</td><td>Dream</td><td>50.2</td><td>18.8</td><td>202</td><td>3800</td><td>male  </td><td>2009</td></tr>\n",
              "\t<tr><td>Chinstrap</td><td>Dream</td><td>45.6</td><td>19.4</td><td>194</td><td>3525</td><td>female</td><td>2009</td></tr>\n",
              "\t<tr><td>Chinstrap</td><td>Dream</td><td>51.9</td><td>19.5</td><td>206</td><td>3950</td><td>male  </td><td>2009</td></tr>\n",
              "\t<tr><td>Chinstrap</td><td>Dream</td><td>46.8</td><td>16.5</td><td>189</td><td>3650</td><td>female</td><td>2009</td></tr>\n",
              "\t<tr><td>Chinstrap</td><td>Dream</td><td>45.7</td><td>17.0</td><td>195</td><td>3650</td><td>female</td><td>2009</td></tr>\n",
              "\t<tr><td>Chinstrap</td><td>Dream</td><td>55.8</td><td>19.8</td><td>207</td><td>4000</td><td>male  </td><td>2009</td></tr>\n",
              "\t<tr><td>Chinstrap</td><td>Dream</td><td>43.5</td><td>18.1</td><td>202</td><td>3400</td><td>female</td><td>2009</td></tr>\n",
              "\t<tr><td>Chinstrap</td><td>Dream</td><td>49.6</td><td>18.2</td><td>193</td><td>3775</td><td>male  </td><td>2009</td></tr>\n",
              "\t<tr><td>Chinstrap</td><td>Dream</td><td>50.8</td><td>19.0</td><td>210</td><td>4100</td><td>male  </td><td>2009</td></tr>\n",
              "\t<tr><td>Chinstrap</td><td>Dream</td><td>50.2</td><td>18.7</td><td>198</td><td>3775</td><td>female</td><td>2009</td></tr>\n",
              "</tbody>\n",
              "</table>\n"
            ],
            "text/markdown": "\nA tibble: 331 × 8\n\n| species &lt;fct&gt; | island &lt;fct&gt; | bill_length_mm &lt;dbl&gt; | bill_depth_mm &lt;dbl&gt; | flipper_length_mm &lt;int&gt; | body_mass_g &lt;int&gt; | sex &lt;fct&gt; | year &lt;int&gt; |\n|---|---|---|---|---|---|---|---|\n| Adelie | Torgersen | 39.1 | 18.7 | 181 | 3750 | male   | 2007 |\n| Adelie | Torgersen | 39.5 | 17.4 | 186 | 3800 | female | 2007 |\n| Adelie | Torgersen | 40.3 | 18.0 | 195 | 3250 | female | 2007 |\n| Adelie | Torgersen | 36.7 | 19.3 | 193 | 3450 | female | 2007 |\n| Adelie | Torgersen | 39.3 | 20.6 | 190 | 3650 | male   | 2007 |\n| Adelie | Torgersen | 38.9 | 17.8 | 181 | 3625 | female | 2007 |\n| Adelie | Torgersen | 39.2 | 19.6 | 195 | 4675 | male   | 2007 |\n| Adelie | Torgersen | 34.1 | 18.1 | 193 | 3475 | NA     | 2007 |\n| Adelie | Torgersen | 42.0 | 20.2 | 190 | 4250 | NA     | 2007 |\n| Adelie | Torgersen | 37.8 | 17.1 | 186 | 3300 | NA     | 2007 |\n| Adelie | Torgersen | 37.8 | 17.3 | 180 | 3700 | NA     | 2007 |\n| Adelie | Torgersen | 41.1 | 17.6 | 182 | 3200 | female | 2007 |\n| Adelie | Torgersen | 38.6 | 21.2 | 191 | 3800 | male   | 2007 |\n| Adelie | Torgersen | 34.6 | 21.1 | 198 | 4400 | male   | 2007 |\n| Adelie | Torgersen | 36.6 | 17.8 | 185 | 3700 | female | 2007 |\n| Adelie | Torgersen | 38.7 | 19.0 | 195 | 3450 | female | 2007 |\n| Adelie | Torgersen | 42.5 | 20.7 | 197 | 4500 | male   | 2007 |\n| Adelie | Torgersen | 34.4 | 18.4 | 184 | 3325 | female | 2007 |\n| Adelie | Torgersen | 46.0 | 21.5 | 194 | 4200 | male   | 2007 |\n| Adelie | Biscoe    | 37.8 | 18.3 | 174 | 3400 | female | 2007 |\n| Adelie | Biscoe    | 37.7 | 18.7 | 180 | 3600 | male   | 2007 |\n| Adelie | Biscoe    | 35.9 | 19.2 | 189 | 3800 | female | 2007 |\n| Adelie | Biscoe    | 38.2 | 18.1 | 185 | 3950 | male   | 2007 |\n| Adelie | Biscoe    | 38.8 | 17.2 | 180 | 3800 | male   | 2007 |\n| Adelie | Biscoe    | 35.3 | 18.9 | 187 | 3800 | female | 2007 |\n| Adelie | Biscoe    | 40.6 | 18.6 | 183 | 3550 | male   | 2007 |\n| Adelie | Biscoe    | 40.5 | 17.9 | 187 | 3200 | female | 2007 |\n| Adelie | Biscoe    | 37.9 | 18.6 | 172 | 3150 | female | 2007 |\n| Adelie | Biscoe    | 40.5 | 18.9 | 180 | 3950 | male   | 2007 |\n| Adelie | Dream     | 39.5 | 16.7 | 178 | 3250 | female | 2007 |\n| ⋮ | ⋮ | ⋮ | ⋮ | ⋮ | ⋮ | ⋮ | ⋮ |\n| Chinstrap | Dream | 52.0 | 20.7 | 210 | 4800 | male   | 2008 |\n| Chinstrap | Dream | 53.5 | 19.9 | 205 | 4500 | male   | 2008 |\n| Chinstrap | Dream | 49.0 | 19.5 | 210 | 3950 | male   | 2008 |\n| Chinstrap | Dream | 46.2 | 17.5 | 187 | 3650 | female | 2008 |\n| Chinstrap | Dream | 50.9 | 19.1 | 196 | 3550 | male   | 2008 |\n| Chinstrap | Dream | 45.5 | 17.0 | 196 | 3500 | female | 2008 |\n| Chinstrap | Dream | 50.9 | 17.9 | 196 | 3675 | female | 2009 |\n| Chinstrap | Dream | 50.8 | 18.5 | 201 | 4450 | male   | 2009 |\n| Chinstrap | Dream | 50.1 | 17.9 | 190 | 3400 | female | 2009 |\n| Chinstrap | Dream | 49.0 | 19.6 | 212 | 4300 | male   | 2009 |\n| Chinstrap | Dream | 51.5 | 18.7 | 187 | 3250 | male   | 2009 |\n| Chinstrap | Dream | 49.8 | 17.3 | 198 | 3675 | female | 2009 |\n| Chinstrap | Dream | 48.1 | 16.4 | 199 | 3325 | female | 2009 |\n| Chinstrap | Dream | 51.4 | 19.0 | 201 | 3950 | male   | 2009 |\n| Chinstrap | Dream | 45.7 | 17.3 | 193 | 3600 | female | 2009 |\n| Chinstrap | Dream | 50.7 | 19.7 | 203 | 4050 | male   | 2009 |\n| Chinstrap | Dream | 42.5 | 17.3 | 187 | 3350 | female | 2009 |\n| Chinstrap | Dream | 52.2 | 18.8 | 197 | 3450 | male   | 2009 |\n| Chinstrap | Dream | 45.2 | 16.6 | 191 | 3250 | female | 2009 |\n| Chinstrap | Dream | 49.3 | 19.9 | 203 | 4050 | male   | 2009 |\n| Chinstrap | Dream | 50.2 | 18.8 | 202 | 3800 | male   | 2009 |\n| Chinstrap | Dream | 45.6 | 19.4 | 194 | 3525 | female | 2009 |\n| Chinstrap | Dream | 51.9 | 19.5 | 206 | 3950 | male   | 2009 |\n| Chinstrap | Dream | 46.8 | 16.5 | 189 | 3650 | female | 2009 |\n| Chinstrap | Dream | 45.7 | 17.0 | 195 | 3650 | female | 2009 |\n| Chinstrap | Dream | 55.8 | 19.8 | 207 | 4000 | male   | 2009 |\n| Chinstrap | Dream | 43.5 | 18.1 | 202 | 3400 | female | 2009 |\n| Chinstrap | Dream | 49.6 | 18.2 | 193 | 3775 | male   | 2009 |\n| Chinstrap | Dream | 50.8 | 19.0 | 210 | 4100 | male   | 2009 |\n| Chinstrap | Dream | 50.2 | 18.7 | 198 | 3775 | female | 2009 |\n\n",
            "text/latex": "A tibble: 331 × 8\n\\begin{tabular}{llllllll}\n species & island & bill\\_length\\_mm & bill\\_depth\\_mm & flipper\\_length\\_mm & body\\_mass\\_g & sex & year\\\\\n <fct> & <fct> & <dbl> & <dbl> & <int> & <int> & <fct> & <int>\\\\\n\\hline\n\t Adelie & Torgersen & 39.1 & 18.7 & 181 & 3750 & male   & 2007\\\\\n\t Adelie & Torgersen & 39.5 & 17.4 & 186 & 3800 & female & 2007\\\\\n\t Adelie & Torgersen & 40.3 & 18.0 & 195 & 3250 & female & 2007\\\\\n\t Adelie & Torgersen & 36.7 & 19.3 & 193 & 3450 & female & 2007\\\\\n\t Adelie & Torgersen & 39.3 & 20.6 & 190 & 3650 & male   & 2007\\\\\n\t Adelie & Torgersen & 38.9 & 17.8 & 181 & 3625 & female & 2007\\\\\n\t Adelie & Torgersen & 39.2 & 19.6 & 195 & 4675 & male   & 2007\\\\\n\t Adelie & Torgersen & 34.1 & 18.1 & 193 & 3475 & NA     & 2007\\\\\n\t Adelie & Torgersen & 42.0 & 20.2 & 190 & 4250 & NA     & 2007\\\\\n\t Adelie & Torgersen & 37.8 & 17.1 & 186 & 3300 & NA     & 2007\\\\\n\t Adelie & Torgersen & 37.8 & 17.3 & 180 & 3700 & NA     & 2007\\\\\n\t Adelie & Torgersen & 41.1 & 17.6 & 182 & 3200 & female & 2007\\\\\n\t Adelie & Torgersen & 38.6 & 21.2 & 191 & 3800 & male   & 2007\\\\\n\t Adelie & Torgersen & 34.6 & 21.1 & 198 & 4400 & male   & 2007\\\\\n\t Adelie & Torgersen & 36.6 & 17.8 & 185 & 3700 & female & 2007\\\\\n\t Adelie & Torgersen & 38.7 & 19.0 & 195 & 3450 & female & 2007\\\\\n\t Adelie & Torgersen & 42.5 & 20.7 & 197 & 4500 & male   & 2007\\\\\n\t Adelie & Torgersen & 34.4 & 18.4 & 184 & 3325 & female & 2007\\\\\n\t Adelie & Torgersen & 46.0 & 21.5 & 194 & 4200 & male   & 2007\\\\\n\t Adelie & Biscoe    & 37.8 & 18.3 & 174 & 3400 & female & 2007\\\\\n\t Adelie & Biscoe    & 37.7 & 18.7 & 180 & 3600 & male   & 2007\\\\\n\t Adelie & Biscoe    & 35.9 & 19.2 & 189 & 3800 & female & 2007\\\\\n\t Adelie & Biscoe    & 38.2 & 18.1 & 185 & 3950 & male   & 2007\\\\\n\t Adelie & Biscoe    & 38.8 & 17.2 & 180 & 3800 & male   & 2007\\\\\n\t Adelie & Biscoe    & 35.3 & 18.9 & 187 & 3800 & female & 2007\\\\\n\t Adelie & Biscoe    & 40.6 & 18.6 & 183 & 3550 & male   & 2007\\\\\n\t Adelie & Biscoe    & 40.5 & 17.9 & 187 & 3200 & female & 2007\\\\\n\t Adelie & Biscoe    & 37.9 & 18.6 & 172 & 3150 & female & 2007\\\\\n\t Adelie & Biscoe    & 40.5 & 18.9 & 180 & 3950 & male   & 2007\\\\\n\t Adelie & Dream     & 39.5 & 16.7 & 178 & 3250 & female & 2007\\\\\n\t ⋮ & ⋮ & ⋮ & ⋮ & ⋮ & ⋮ & ⋮ & ⋮\\\\\n\t Chinstrap & Dream & 52.0 & 20.7 & 210 & 4800 & male   & 2008\\\\\n\t Chinstrap & Dream & 53.5 & 19.9 & 205 & 4500 & male   & 2008\\\\\n\t Chinstrap & Dream & 49.0 & 19.5 & 210 & 3950 & male   & 2008\\\\\n\t Chinstrap & Dream & 46.2 & 17.5 & 187 & 3650 & female & 2008\\\\\n\t Chinstrap & Dream & 50.9 & 19.1 & 196 & 3550 & male   & 2008\\\\\n\t Chinstrap & Dream & 45.5 & 17.0 & 196 & 3500 & female & 2008\\\\\n\t Chinstrap & Dream & 50.9 & 17.9 & 196 & 3675 & female & 2009\\\\\n\t Chinstrap & Dream & 50.8 & 18.5 & 201 & 4450 & male   & 2009\\\\\n\t Chinstrap & Dream & 50.1 & 17.9 & 190 & 3400 & female & 2009\\\\\n\t Chinstrap & Dream & 49.0 & 19.6 & 212 & 4300 & male   & 2009\\\\\n\t Chinstrap & Dream & 51.5 & 18.7 & 187 & 3250 & male   & 2009\\\\\n\t Chinstrap & Dream & 49.8 & 17.3 & 198 & 3675 & female & 2009\\\\\n\t Chinstrap & Dream & 48.1 & 16.4 & 199 & 3325 & female & 2009\\\\\n\t Chinstrap & Dream & 51.4 & 19.0 & 201 & 3950 & male   & 2009\\\\\n\t Chinstrap & Dream & 45.7 & 17.3 & 193 & 3600 & female & 2009\\\\\n\t Chinstrap & Dream & 50.7 & 19.7 & 203 & 4050 & male   & 2009\\\\\n\t Chinstrap & Dream & 42.5 & 17.3 & 187 & 3350 & female & 2009\\\\\n\t Chinstrap & Dream & 52.2 & 18.8 & 197 & 3450 & male   & 2009\\\\\n\t Chinstrap & Dream & 45.2 & 16.6 & 191 & 3250 & female & 2009\\\\\n\t Chinstrap & Dream & 49.3 & 19.9 & 203 & 4050 & male   & 2009\\\\\n\t Chinstrap & Dream & 50.2 & 18.8 & 202 & 3800 & male   & 2009\\\\\n\t Chinstrap & Dream & 45.6 & 19.4 & 194 & 3525 & female & 2009\\\\\n\t Chinstrap & Dream & 51.9 & 19.5 & 206 & 3950 & male   & 2009\\\\\n\t Chinstrap & Dream & 46.8 & 16.5 & 189 & 3650 & female & 2009\\\\\n\t Chinstrap & Dream & 45.7 & 17.0 & 195 & 3650 & female & 2009\\\\\n\t Chinstrap & Dream & 55.8 & 19.8 & 207 & 4000 & male   & 2009\\\\\n\t Chinstrap & Dream & 43.5 & 18.1 & 202 & 3400 & female & 2009\\\\\n\t Chinstrap & Dream & 49.6 & 18.2 & 193 & 3775 & male   & 2009\\\\\n\t Chinstrap & Dream & 50.8 & 19.0 & 210 & 4100 & male   & 2009\\\\\n\t Chinstrap & Dream & 50.2 & 18.7 & 198 & 3775 & female & 2009\\\\\n\\end{tabular}\n",
            "text/plain": [
              "    species   island    bill_length_mm bill_depth_mm flipper_length_mm\n",
              "1   Adelie    Torgersen 39.1           18.7          181              \n",
              "2   Adelie    Torgersen 39.5           17.4          186              \n",
              "3   Adelie    Torgersen 40.3           18.0          195              \n",
              "4   Adelie    Torgersen 36.7           19.3          193              \n",
              "5   Adelie    Torgersen 39.3           20.6          190              \n",
              "6   Adelie    Torgersen 38.9           17.8          181              \n",
              "7   Adelie    Torgersen 39.2           19.6          195              \n",
              "8   Adelie    Torgersen 34.1           18.1          193              \n",
              "9   Adelie    Torgersen 42.0           20.2          190              \n",
              "10  Adelie    Torgersen 37.8           17.1          186              \n",
              "11  Adelie    Torgersen 37.8           17.3          180              \n",
              "12  Adelie    Torgersen 41.1           17.6          182              \n",
              "13  Adelie    Torgersen 38.6           21.2          191              \n",
              "14  Adelie    Torgersen 34.6           21.1          198              \n",
              "15  Adelie    Torgersen 36.6           17.8          185              \n",
              "16  Adelie    Torgersen 38.7           19.0          195              \n",
              "17  Adelie    Torgersen 42.5           20.7          197              \n",
              "18  Adelie    Torgersen 34.4           18.4          184              \n",
              "19  Adelie    Torgersen 46.0           21.5          194              \n",
              "20  Adelie    Biscoe    37.8           18.3          174              \n",
              "21  Adelie    Biscoe    37.7           18.7          180              \n",
              "22  Adelie    Biscoe    35.9           19.2          189              \n",
              "23  Adelie    Biscoe    38.2           18.1          185              \n",
              "24  Adelie    Biscoe    38.8           17.2          180              \n",
              "25  Adelie    Biscoe    35.3           18.9          187              \n",
              "26  Adelie    Biscoe    40.6           18.6          183              \n",
              "27  Adelie    Biscoe    40.5           17.9          187              \n",
              "28  Adelie    Biscoe    37.9           18.6          172              \n",
              "29  Adelie    Biscoe    40.5           18.9          180              \n",
              "30  Adelie    Dream     39.5           16.7          178              \n",
              "⋮   ⋮         ⋮         ⋮              ⋮             ⋮                \n",
              "302 Chinstrap Dream     52.0           20.7          210              \n",
              "303 Chinstrap Dream     53.5           19.9          205              \n",
              "304 Chinstrap Dream     49.0           19.5          210              \n",
              "305 Chinstrap Dream     46.2           17.5          187              \n",
              "306 Chinstrap Dream     50.9           19.1          196              \n",
              "307 Chinstrap Dream     45.5           17.0          196              \n",
              "308 Chinstrap Dream     50.9           17.9          196              \n",
              "309 Chinstrap Dream     50.8           18.5          201              \n",
              "310 Chinstrap Dream     50.1           17.9          190              \n",
              "311 Chinstrap Dream     49.0           19.6          212              \n",
              "312 Chinstrap Dream     51.5           18.7          187              \n",
              "313 Chinstrap Dream     49.8           17.3          198              \n",
              "314 Chinstrap Dream     48.1           16.4          199              \n",
              "315 Chinstrap Dream     51.4           19.0          201              \n",
              "316 Chinstrap Dream     45.7           17.3          193              \n",
              "317 Chinstrap Dream     50.7           19.7          203              \n",
              "318 Chinstrap Dream     42.5           17.3          187              \n",
              "319 Chinstrap Dream     52.2           18.8          197              \n",
              "320 Chinstrap Dream     45.2           16.6          191              \n",
              "321 Chinstrap Dream     49.3           19.9          203              \n",
              "322 Chinstrap Dream     50.2           18.8          202              \n",
              "323 Chinstrap Dream     45.6           19.4          194              \n",
              "324 Chinstrap Dream     51.9           19.5          206              \n",
              "325 Chinstrap Dream     46.8           16.5          189              \n",
              "326 Chinstrap Dream     45.7           17.0          195              \n",
              "327 Chinstrap Dream     55.8           19.8          207              \n",
              "328 Chinstrap Dream     43.5           18.1          202              \n",
              "329 Chinstrap Dream     49.6           18.2          193              \n",
              "330 Chinstrap Dream     50.8           19.0          210              \n",
              "331 Chinstrap Dream     50.2           18.7          198              \n",
              "    body_mass_g sex    year\n",
              "1   3750        male   2007\n",
              "2   3800        female 2007\n",
              "3   3250        female 2007\n",
              "4   3450        female 2007\n",
              "5   3650        male   2007\n",
              "6   3625        female 2007\n",
              "7   4675        male   2007\n",
              "8   3475        NA     2007\n",
              "9   4250        NA     2007\n",
              "10  3300        NA     2007\n",
              "11  3700        NA     2007\n",
              "12  3200        female 2007\n",
              "13  3800        male   2007\n",
              "14  4400        male   2007\n",
              "15  3700        female 2007\n",
              "16  3450        female 2007\n",
              "17  4500        male   2007\n",
              "18  3325        female 2007\n",
              "19  4200        male   2007\n",
              "20  3400        female 2007\n",
              "21  3600        male   2007\n",
              "22  3800        female 2007\n",
              "23  3950        male   2007\n",
              "24  3800        male   2007\n",
              "25  3800        female 2007\n",
              "26  3550        male   2007\n",
              "27  3200        female 2007\n",
              "28  3150        female 2007\n",
              "29  3950        male   2007\n",
              "30  3250        female 2007\n",
              "⋮   ⋮           ⋮      ⋮   \n",
              "302 4800        male   2008\n",
              "303 4500        male   2008\n",
              "304 3950        male   2008\n",
              "305 3650        female 2008\n",
              "306 3550        male   2008\n",
              "307 3500        female 2008\n",
              "308 3675        female 2009\n",
              "309 4450        male   2009\n",
              "310 3400        female 2009\n",
              "311 4300        male   2009\n",
              "312 3250        male   2009\n",
              "313 3675        female 2009\n",
              "314 3325        female 2009\n",
              "315 3950        male   2009\n",
              "316 3600        female 2009\n",
              "317 4050        male   2009\n",
              "318 3350        female 2009\n",
              "319 3450        male   2009\n",
              "320 3250        female 2009\n",
              "321 4050        male   2009\n",
              "322 3800        male   2009\n",
              "323 3525        female 2009\n",
              "324 3950        male   2009\n",
              "325 3650        female 2009\n",
              "326 3650        female 2009\n",
              "327 4000        male   2009\n",
              "328 3400        female 2009\n",
              "329 3775        male   2009\n",
              "330 4100        male   2009\n",
              "331 3775        female 2009"
            ]
          },
          "metadata": {}
        }
      ]
    },
    {
      "cell_type": "code",
      "source": [
        "penguins %>%\n",
        "  filter (species == \"Adelie\")"
      ],
      "metadata": {
        "colab": {
          "base_uri": "https://localhost:8080/",
          "height": 1000
        },
        "id": "hcYCc5NFqImc",
        "outputId": "ce3c9f0e-2de6-43ba-d4d5-5fdb621edfea"
      },
      "execution_count": 17,
      "outputs": [
        {
          "output_type": "display_data",
          "data": {
            "text/html": [
              "<table class=\"dataframe\">\n",
              "<caption>A tibble: 152 × 8</caption>\n",
              "<thead>\n",
              "\t<tr><th scope=col>species</th><th scope=col>island</th><th scope=col>bill_length_mm</th><th scope=col>bill_depth_mm</th><th scope=col>flipper_length_mm</th><th scope=col>body_mass_g</th><th scope=col>sex</th><th scope=col>year</th></tr>\n",
              "\t<tr><th scope=col>&lt;fct&gt;</th><th scope=col>&lt;fct&gt;</th><th scope=col>&lt;dbl&gt;</th><th scope=col>&lt;dbl&gt;</th><th scope=col>&lt;int&gt;</th><th scope=col>&lt;int&gt;</th><th scope=col>&lt;fct&gt;</th><th scope=col>&lt;int&gt;</th></tr>\n",
              "</thead>\n",
              "<tbody>\n",
              "\t<tr><td>Adelie</td><td>Torgersen</td><td>39.1</td><td>18.7</td><td>181</td><td>3750</td><td>male  </td><td>2007</td></tr>\n",
              "\t<tr><td>Adelie</td><td>Torgersen</td><td>39.5</td><td>17.4</td><td>186</td><td>3800</td><td>female</td><td>2007</td></tr>\n",
              "\t<tr><td>Adelie</td><td>Torgersen</td><td>40.3</td><td>18.0</td><td>195</td><td>3250</td><td>female</td><td>2007</td></tr>\n",
              "\t<tr><td>Adelie</td><td>Torgersen</td><td>  NA</td><td>  NA</td><td> NA</td><td>  NA</td><td>NA    </td><td>2007</td></tr>\n",
              "\t<tr><td>Adelie</td><td>Torgersen</td><td>36.7</td><td>19.3</td><td>193</td><td>3450</td><td>female</td><td>2007</td></tr>\n",
              "\t<tr><td>Adelie</td><td>Torgersen</td><td>39.3</td><td>20.6</td><td>190</td><td>3650</td><td>male  </td><td>2007</td></tr>\n",
              "\t<tr><td>Adelie</td><td>Torgersen</td><td>38.9</td><td>17.8</td><td>181</td><td>3625</td><td>female</td><td>2007</td></tr>\n",
              "\t<tr><td>Adelie</td><td>Torgersen</td><td>39.2</td><td>19.6</td><td>195</td><td>4675</td><td>male  </td><td>2007</td></tr>\n",
              "\t<tr><td>Adelie</td><td>Torgersen</td><td>34.1</td><td>18.1</td><td>193</td><td>3475</td><td>NA    </td><td>2007</td></tr>\n",
              "\t<tr><td>Adelie</td><td>Torgersen</td><td>42.0</td><td>20.2</td><td>190</td><td>4250</td><td>NA    </td><td>2007</td></tr>\n",
              "\t<tr><td>Adelie</td><td>Torgersen</td><td>37.8</td><td>17.1</td><td>186</td><td>3300</td><td>NA    </td><td>2007</td></tr>\n",
              "\t<tr><td>Adelie</td><td>Torgersen</td><td>37.8</td><td>17.3</td><td>180</td><td>3700</td><td>NA    </td><td>2007</td></tr>\n",
              "\t<tr><td>Adelie</td><td>Torgersen</td><td>41.1</td><td>17.6</td><td>182</td><td>3200</td><td>female</td><td>2007</td></tr>\n",
              "\t<tr><td>Adelie</td><td>Torgersen</td><td>38.6</td><td>21.2</td><td>191</td><td>3800</td><td>male  </td><td>2007</td></tr>\n",
              "\t<tr><td>Adelie</td><td>Torgersen</td><td>34.6</td><td>21.1</td><td>198</td><td>4400</td><td>male  </td><td>2007</td></tr>\n",
              "\t<tr><td>Adelie</td><td>Torgersen</td><td>36.6</td><td>17.8</td><td>185</td><td>3700</td><td>female</td><td>2007</td></tr>\n",
              "\t<tr><td>Adelie</td><td>Torgersen</td><td>38.7</td><td>19.0</td><td>195</td><td>3450</td><td>female</td><td>2007</td></tr>\n",
              "\t<tr><td>Adelie</td><td>Torgersen</td><td>42.5</td><td>20.7</td><td>197</td><td>4500</td><td>male  </td><td>2007</td></tr>\n",
              "\t<tr><td>Adelie</td><td>Torgersen</td><td>34.4</td><td>18.4</td><td>184</td><td>3325</td><td>female</td><td>2007</td></tr>\n",
              "\t<tr><td>Adelie</td><td>Torgersen</td><td>46.0</td><td>21.5</td><td>194</td><td>4200</td><td>male  </td><td>2007</td></tr>\n",
              "\t<tr><td>Adelie</td><td>Biscoe   </td><td>37.8</td><td>18.3</td><td>174</td><td>3400</td><td>female</td><td>2007</td></tr>\n",
              "\t<tr><td>Adelie</td><td>Biscoe   </td><td>37.7</td><td>18.7</td><td>180</td><td>3600</td><td>male  </td><td>2007</td></tr>\n",
              "\t<tr><td>Adelie</td><td>Biscoe   </td><td>35.9</td><td>19.2</td><td>189</td><td>3800</td><td>female</td><td>2007</td></tr>\n",
              "\t<tr><td>Adelie</td><td>Biscoe   </td><td>38.2</td><td>18.1</td><td>185</td><td>3950</td><td>male  </td><td>2007</td></tr>\n",
              "\t<tr><td>Adelie</td><td>Biscoe   </td><td>38.8</td><td>17.2</td><td>180</td><td>3800</td><td>male  </td><td>2007</td></tr>\n",
              "\t<tr><td>Adelie</td><td>Biscoe   </td><td>35.3</td><td>18.9</td><td>187</td><td>3800</td><td>female</td><td>2007</td></tr>\n",
              "\t<tr><td>Adelie</td><td>Biscoe   </td><td>40.6</td><td>18.6</td><td>183</td><td>3550</td><td>male  </td><td>2007</td></tr>\n",
              "\t<tr><td>Adelie</td><td>Biscoe   </td><td>40.5</td><td>17.9</td><td>187</td><td>3200</td><td>female</td><td>2007</td></tr>\n",
              "\t<tr><td>Adelie</td><td>Biscoe   </td><td>37.9</td><td>18.6</td><td>172</td><td>3150</td><td>female</td><td>2007</td></tr>\n",
              "\t<tr><td>Adelie</td><td>Biscoe   </td><td>40.5</td><td>18.9</td><td>180</td><td>3950</td><td>male  </td><td>2007</td></tr>\n",
              "\t<tr><td>⋮</td><td>⋮</td><td>⋮</td><td>⋮</td><td>⋮</td><td>⋮</td><td>⋮</td><td>⋮</td></tr>\n",
              "\t<tr><td>Adelie</td><td>Torgersen</td><td>40.2</td><td>17.0</td><td>176</td><td>3450</td><td>female</td><td>2009</td></tr>\n",
              "\t<tr><td>Adelie</td><td>Torgersen</td><td>41.4</td><td>18.5</td><td>202</td><td>3875</td><td>male  </td><td>2009</td></tr>\n",
              "\t<tr><td>Adelie</td><td>Torgersen</td><td>35.2</td><td>15.9</td><td>186</td><td>3050</td><td>female</td><td>2009</td></tr>\n",
              "\t<tr><td>Adelie</td><td>Torgersen</td><td>40.6</td><td>19.0</td><td>199</td><td>4000</td><td>male  </td><td>2009</td></tr>\n",
              "\t<tr><td>Adelie</td><td>Torgersen</td><td>38.8</td><td>17.6</td><td>191</td><td>3275</td><td>female</td><td>2009</td></tr>\n",
              "\t<tr><td>Adelie</td><td>Torgersen</td><td>41.5</td><td>18.3</td><td>195</td><td>4300</td><td>male  </td><td>2009</td></tr>\n",
              "\t<tr><td>Adelie</td><td>Torgersen</td><td>39.0</td><td>17.1</td><td>191</td><td>3050</td><td>female</td><td>2009</td></tr>\n",
              "\t<tr><td>Adelie</td><td>Torgersen</td><td>44.1</td><td>18.0</td><td>210</td><td>4000</td><td>male  </td><td>2009</td></tr>\n",
              "\t<tr><td>Adelie</td><td>Torgersen</td><td>38.5</td><td>17.9</td><td>190</td><td>3325</td><td>female</td><td>2009</td></tr>\n",
              "\t<tr><td>Adelie</td><td>Torgersen</td><td>43.1</td><td>19.2</td><td>197</td><td>3500</td><td>male  </td><td>2009</td></tr>\n",
              "\t<tr><td>Adelie</td><td>Dream    </td><td>36.8</td><td>18.5</td><td>193</td><td>3500</td><td>female</td><td>2009</td></tr>\n",
              "\t<tr><td>Adelie</td><td>Dream    </td><td>37.5</td><td>18.5</td><td>199</td><td>4475</td><td>male  </td><td>2009</td></tr>\n",
              "\t<tr><td>Adelie</td><td>Dream    </td><td>38.1</td><td>17.6</td><td>187</td><td>3425</td><td>female</td><td>2009</td></tr>\n",
              "\t<tr><td>Adelie</td><td>Dream    </td><td>41.1</td><td>17.5</td><td>190</td><td>3900</td><td>male  </td><td>2009</td></tr>\n",
              "\t<tr><td>Adelie</td><td>Dream    </td><td>35.6</td><td>17.5</td><td>191</td><td>3175</td><td>female</td><td>2009</td></tr>\n",
              "\t<tr><td>Adelie</td><td>Dream    </td><td>40.2</td><td>20.1</td><td>200</td><td>3975</td><td>male  </td><td>2009</td></tr>\n",
              "\t<tr><td>Adelie</td><td>Dream    </td><td>37.0</td><td>16.5</td><td>185</td><td>3400</td><td>female</td><td>2009</td></tr>\n",
              "\t<tr><td>Adelie</td><td>Dream    </td><td>39.7</td><td>17.9</td><td>193</td><td>4250</td><td>male  </td><td>2009</td></tr>\n",
              "\t<tr><td>Adelie</td><td>Dream    </td><td>40.2</td><td>17.1</td><td>193</td><td>3400</td><td>female</td><td>2009</td></tr>\n",
              "\t<tr><td>Adelie</td><td>Dream    </td><td>40.6</td><td>17.2</td><td>187</td><td>3475</td><td>male  </td><td>2009</td></tr>\n",
              "\t<tr><td>Adelie</td><td>Dream    </td><td>32.1</td><td>15.5</td><td>188</td><td>3050</td><td>female</td><td>2009</td></tr>\n",
              "\t<tr><td>Adelie</td><td>Dream    </td><td>40.7</td><td>17.0</td><td>190</td><td>3725</td><td>male  </td><td>2009</td></tr>\n",
              "\t<tr><td>Adelie</td><td>Dream    </td><td>37.3</td><td>16.8</td><td>192</td><td>3000</td><td>female</td><td>2009</td></tr>\n",
              "\t<tr><td>Adelie</td><td>Dream    </td><td>39.0</td><td>18.7</td><td>185</td><td>3650</td><td>male  </td><td>2009</td></tr>\n",
              "\t<tr><td>Adelie</td><td>Dream    </td><td>39.2</td><td>18.6</td><td>190</td><td>4250</td><td>male  </td><td>2009</td></tr>\n",
              "\t<tr><td>Adelie</td><td>Dream    </td><td>36.6</td><td>18.4</td><td>184</td><td>3475</td><td>female</td><td>2009</td></tr>\n",
              "\t<tr><td>Adelie</td><td>Dream    </td><td>36.0</td><td>17.8</td><td>195</td><td>3450</td><td>female</td><td>2009</td></tr>\n",
              "\t<tr><td>Adelie</td><td>Dream    </td><td>37.8</td><td>18.1</td><td>193</td><td>3750</td><td>male  </td><td>2009</td></tr>\n",
              "\t<tr><td>Adelie</td><td>Dream    </td><td>36.0</td><td>17.1</td><td>187</td><td>3700</td><td>female</td><td>2009</td></tr>\n",
              "\t<tr><td>Adelie</td><td>Dream    </td><td>41.5</td><td>18.5</td><td>201</td><td>4000</td><td>male  </td><td>2009</td></tr>\n",
              "</tbody>\n",
              "</table>\n"
            ],
            "text/markdown": "\nA tibble: 152 × 8\n\n| species &lt;fct&gt; | island &lt;fct&gt; | bill_length_mm &lt;dbl&gt; | bill_depth_mm &lt;dbl&gt; | flipper_length_mm &lt;int&gt; | body_mass_g &lt;int&gt; | sex &lt;fct&gt; | year &lt;int&gt; |\n|---|---|---|---|---|---|---|---|\n| Adelie | Torgersen | 39.1 | 18.7 | 181 | 3750 | male   | 2007 |\n| Adelie | Torgersen | 39.5 | 17.4 | 186 | 3800 | female | 2007 |\n| Adelie | Torgersen | 40.3 | 18.0 | 195 | 3250 | female | 2007 |\n| Adelie | Torgersen |   NA |   NA |  NA |   NA | NA     | 2007 |\n| Adelie | Torgersen | 36.7 | 19.3 | 193 | 3450 | female | 2007 |\n| Adelie | Torgersen | 39.3 | 20.6 | 190 | 3650 | male   | 2007 |\n| Adelie | Torgersen | 38.9 | 17.8 | 181 | 3625 | female | 2007 |\n| Adelie | Torgersen | 39.2 | 19.6 | 195 | 4675 | male   | 2007 |\n| Adelie | Torgersen | 34.1 | 18.1 | 193 | 3475 | NA     | 2007 |\n| Adelie | Torgersen | 42.0 | 20.2 | 190 | 4250 | NA     | 2007 |\n| Adelie | Torgersen | 37.8 | 17.1 | 186 | 3300 | NA     | 2007 |\n| Adelie | Torgersen | 37.8 | 17.3 | 180 | 3700 | NA     | 2007 |\n| Adelie | Torgersen | 41.1 | 17.6 | 182 | 3200 | female | 2007 |\n| Adelie | Torgersen | 38.6 | 21.2 | 191 | 3800 | male   | 2007 |\n| Adelie | Torgersen | 34.6 | 21.1 | 198 | 4400 | male   | 2007 |\n| Adelie | Torgersen | 36.6 | 17.8 | 185 | 3700 | female | 2007 |\n| Adelie | Torgersen | 38.7 | 19.0 | 195 | 3450 | female | 2007 |\n| Adelie | Torgersen | 42.5 | 20.7 | 197 | 4500 | male   | 2007 |\n| Adelie | Torgersen | 34.4 | 18.4 | 184 | 3325 | female | 2007 |\n| Adelie | Torgersen | 46.0 | 21.5 | 194 | 4200 | male   | 2007 |\n| Adelie | Biscoe    | 37.8 | 18.3 | 174 | 3400 | female | 2007 |\n| Adelie | Biscoe    | 37.7 | 18.7 | 180 | 3600 | male   | 2007 |\n| Adelie | Biscoe    | 35.9 | 19.2 | 189 | 3800 | female | 2007 |\n| Adelie | Biscoe    | 38.2 | 18.1 | 185 | 3950 | male   | 2007 |\n| Adelie | Biscoe    | 38.8 | 17.2 | 180 | 3800 | male   | 2007 |\n| Adelie | Biscoe    | 35.3 | 18.9 | 187 | 3800 | female | 2007 |\n| Adelie | Biscoe    | 40.6 | 18.6 | 183 | 3550 | male   | 2007 |\n| Adelie | Biscoe    | 40.5 | 17.9 | 187 | 3200 | female | 2007 |\n| Adelie | Biscoe    | 37.9 | 18.6 | 172 | 3150 | female | 2007 |\n| Adelie | Biscoe    | 40.5 | 18.9 | 180 | 3950 | male   | 2007 |\n| ⋮ | ⋮ | ⋮ | ⋮ | ⋮ | ⋮ | ⋮ | ⋮ |\n| Adelie | Torgersen | 40.2 | 17.0 | 176 | 3450 | female | 2009 |\n| Adelie | Torgersen | 41.4 | 18.5 | 202 | 3875 | male   | 2009 |\n| Adelie | Torgersen | 35.2 | 15.9 | 186 | 3050 | female | 2009 |\n| Adelie | Torgersen | 40.6 | 19.0 | 199 | 4000 | male   | 2009 |\n| Adelie | Torgersen | 38.8 | 17.6 | 191 | 3275 | female | 2009 |\n| Adelie | Torgersen | 41.5 | 18.3 | 195 | 4300 | male   | 2009 |\n| Adelie | Torgersen | 39.0 | 17.1 | 191 | 3050 | female | 2009 |\n| Adelie | Torgersen | 44.1 | 18.0 | 210 | 4000 | male   | 2009 |\n| Adelie | Torgersen | 38.5 | 17.9 | 190 | 3325 | female | 2009 |\n| Adelie | Torgersen | 43.1 | 19.2 | 197 | 3500 | male   | 2009 |\n| Adelie | Dream     | 36.8 | 18.5 | 193 | 3500 | female | 2009 |\n| Adelie | Dream     | 37.5 | 18.5 | 199 | 4475 | male   | 2009 |\n| Adelie | Dream     | 38.1 | 17.6 | 187 | 3425 | female | 2009 |\n| Adelie | Dream     | 41.1 | 17.5 | 190 | 3900 | male   | 2009 |\n| Adelie | Dream     | 35.6 | 17.5 | 191 | 3175 | female | 2009 |\n| Adelie | Dream     | 40.2 | 20.1 | 200 | 3975 | male   | 2009 |\n| Adelie | Dream     | 37.0 | 16.5 | 185 | 3400 | female | 2009 |\n| Adelie | Dream     | 39.7 | 17.9 | 193 | 4250 | male   | 2009 |\n| Adelie | Dream     | 40.2 | 17.1 | 193 | 3400 | female | 2009 |\n| Adelie | Dream     | 40.6 | 17.2 | 187 | 3475 | male   | 2009 |\n| Adelie | Dream     | 32.1 | 15.5 | 188 | 3050 | female | 2009 |\n| Adelie | Dream     | 40.7 | 17.0 | 190 | 3725 | male   | 2009 |\n| Adelie | Dream     | 37.3 | 16.8 | 192 | 3000 | female | 2009 |\n| Adelie | Dream     | 39.0 | 18.7 | 185 | 3650 | male   | 2009 |\n| Adelie | Dream     | 39.2 | 18.6 | 190 | 4250 | male   | 2009 |\n| Adelie | Dream     | 36.6 | 18.4 | 184 | 3475 | female | 2009 |\n| Adelie | Dream     | 36.0 | 17.8 | 195 | 3450 | female | 2009 |\n| Adelie | Dream     | 37.8 | 18.1 | 193 | 3750 | male   | 2009 |\n| Adelie | Dream     | 36.0 | 17.1 | 187 | 3700 | female | 2009 |\n| Adelie | Dream     | 41.5 | 18.5 | 201 | 4000 | male   | 2009 |\n\n",
            "text/latex": "A tibble: 152 × 8\n\\begin{tabular}{llllllll}\n species & island & bill\\_length\\_mm & bill\\_depth\\_mm & flipper\\_length\\_mm & body\\_mass\\_g & sex & year\\\\\n <fct> & <fct> & <dbl> & <dbl> & <int> & <int> & <fct> & <int>\\\\\n\\hline\n\t Adelie & Torgersen & 39.1 & 18.7 & 181 & 3750 & male   & 2007\\\\\n\t Adelie & Torgersen & 39.5 & 17.4 & 186 & 3800 & female & 2007\\\\\n\t Adelie & Torgersen & 40.3 & 18.0 & 195 & 3250 & female & 2007\\\\\n\t Adelie & Torgersen &   NA &   NA &  NA &   NA & NA     & 2007\\\\\n\t Adelie & Torgersen & 36.7 & 19.3 & 193 & 3450 & female & 2007\\\\\n\t Adelie & Torgersen & 39.3 & 20.6 & 190 & 3650 & male   & 2007\\\\\n\t Adelie & Torgersen & 38.9 & 17.8 & 181 & 3625 & female & 2007\\\\\n\t Adelie & Torgersen & 39.2 & 19.6 & 195 & 4675 & male   & 2007\\\\\n\t Adelie & Torgersen & 34.1 & 18.1 & 193 & 3475 & NA     & 2007\\\\\n\t Adelie & Torgersen & 42.0 & 20.2 & 190 & 4250 & NA     & 2007\\\\\n\t Adelie & Torgersen & 37.8 & 17.1 & 186 & 3300 & NA     & 2007\\\\\n\t Adelie & Torgersen & 37.8 & 17.3 & 180 & 3700 & NA     & 2007\\\\\n\t Adelie & Torgersen & 41.1 & 17.6 & 182 & 3200 & female & 2007\\\\\n\t Adelie & Torgersen & 38.6 & 21.2 & 191 & 3800 & male   & 2007\\\\\n\t Adelie & Torgersen & 34.6 & 21.1 & 198 & 4400 & male   & 2007\\\\\n\t Adelie & Torgersen & 36.6 & 17.8 & 185 & 3700 & female & 2007\\\\\n\t Adelie & Torgersen & 38.7 & 19.0 & 195 & 3450 & female & 2007\\\\\n\t Adelie & Torgersen & 42.5 & 20.7 & 197 & 4500 & male   & 2007\\\\\n\t Adelie & Torgersen & 34.4 & 18.4 & 184 & 3325 & female & 2007\\\\\n\t Adelie & Torgersen & 46.0 & 21.5 & 194 & 4200 & male   & 2007\\\\\n\t Adelie & Biscoe    & 37.8 & 18.3 & 174 & 3400 & female & 2007\\\\\n\t Adelie & Biscoe    & 37.7 & 18.7 & 180 & 3600 & male   & 2007\\\\\n\t Adelie & Biscoe    & 35.9 & 19.2 & 189 & 3800 & female & 2007\\\\\n\t Adelie & Biscoe    & 38.2 & 18.1 & 185 & 3950 & male   & 2007\\\\\n\t Adelie & Biscoe    & 38.8 & 17.2 & 180 & 3800 & male   & 2007\\\\\n\t Adelie & Biscoe    & 35.3 & 18.9 & 187 & 3800 & female & 2007\\\\\n\t Adelie & Biscoe    & 40.6 & 18.6 & 183 & 3550 & male   & 2007\\\\\n\t Adelie & Biscoe    & 40.5 & 17.9 & 187 & 3200 & female & 2007\\\\\n\t Adelie & Biscoe    & 37.9 & 18.6 & 172 & 3150 & female & 2007\\\\\n\t Adelie & Biscoe    & 40.5 & 18.9 & 180 & 3950 & male   & 2007\\\\\n\t ⋮ & ⋮ & ⋮ & ⋮ & ⋮ & ⋮ & ⋮ & ⋮\\\\\n\t Adelie & Torgersen & 40.2 & 17.0 & 176 & 3450 & female & 2009\\\\\n\t Adelie & Torgersen & 41.4 & 18.5 & 202 & 3875 & male   & 2009\\\\\n\t Adelie & Torgersen & 35.2 & 15.9 & 186 & 3050 & female & 2009\\\\\n\t Adelie & Torgersen & 40.6 & 19.0 & 199 & 4000 & male   & 2009\\\\\n\t Adelie & Torgersen & 38.8 & 17.6 & 191 & 3275 & female & 2009\\\\\n\t Adelie & Torgersen & 41.5 & 18.3 & 195 & 4300 & male   & 2009\\\\\n\t Adelie & Torgersen & 39.0 & 17.1 & 191 & 3050 & female & 2009\\\\\n\t Adelie & Torgersen & 44.1 & 18.0 & 210 & 4000 & male   & 2009\\\\\n\t Adelie & Torgersen & 38.5 & 17.9 & 190 & 3325 & female & 2009\\\\\n\t Adelie & Torgersen & 43.1 & 19.2 & 197 & 3500 & male   & 2009\\\\\n\t Adelie & Dream     & 36.8 & 18.5 & 193 & 3500 & female & 2009\\\\\n\t Adelie & Dream     & 37.5 & 18.5 & 199 & 4475 & male   & 2009\\\\\n\t Adelie & Dream     & 38.1 & 17.6 & 187 & 3425 & female & 2009\\\\\n\t Adelie & Dream     & 41.1 & 17.5 & 190 & 3900 & male   & 2009\\\\\n\t Adelie & Dream     & 35.6 & 17.5 & 191 & 3175 & female & 2009\\\\\n\t Adelie & Dream     & 40.2 & 20.1 & 200 & 3975 & male   & 2009\\\\\n\t Adelie & Dream     & 37.0 & 16.5 & 185 & 3400 & female & 2009\\\\\n\t Adelie & Dream     & 39.7 & 17.9 & 193 & 4250 & male   & 2009\\\\\n\t Adelie & Dream     & 40.2 & 17.1 & 193 & 3400 & female & 2009\\\\\n\t Adelie & Dream     & 40.6 & 17.2 & 187 & 3475 & male   & 2009\\\\\n\t Adelie & Dream     & 32.1 & 15.5 & 188 & 3050 & female & 2009\\\\\n\t Adelie & Dream     & 40.7 & 17.0 & 190 & 3725 & male   & 2009\\\\\n\t Adelie & Dream     & 37.3 & 16.8 & 192 & 3000 & female & 2009\\\\\n\t Adelie & Dream     & 39.0 & 18.7 & 185 & 3650 & male   & 2009\\\\\n\t Adelie & Dream     & 39.2 & 18.6 & 190 & 4250 & male   & 2009\\\\\n\t Adelie & Dream     & 36.6 & 18.4 & 184 & 3475 & female & 2009\\\\\n\t Adelie & Dream     & 36.0 & 17.8 & 195 & 3450 & female & 2009\\\\\n\t Adelie & Dream     & 37.8 & 18.1 & 193 & 3750 & male   & 2009\\\\\n\t Adelie & Dream     & 36.0 & 17.1 & 187 & 3700 & female & 2009\\\\\n\t Adelie & Dream     & 41.5 & 18.5 & 201 & 4000 & male   & 2009\\\\\n\\end{tabular}\n",
            "text/plain": [
              "    species island    bill_length_mm bill_depth_mm flipper_length_mm\n",
              "1   Adelie  Torgersen 39.1           18.7          181              \n",
              "2   Adelie  Torgersen 39.5           17.4          186              \n",
              "3   Adelie  Torgersen 40.3           18.0          195              \n",
              "4   Adelie  Torgersen   NA             NA           NA              \n",
              "5   Adelie  Torgersen 36.7           19.3          193              \n",
              "6   Adelie  Torgersen 39.3           20.6          190              \n",
              "7   Adelie  Torgersen 38.9           17.8          181              \n",
              "8   Adelie  Torgersen 39.2           19.6          195              \n",
              "9   Adelie  Torgersen 34.1           18.1          193              \n",
              "10  Adelie  Torgersen 42.0           20.2          190              \n",
              "11  Adelie  Torgersen 37.8           17.1          186              \n",
              "12  Adelie  Torgersen 37.8           17.3          180              \n",
              "13  Adelie  Torgersen 41.1           17.6          182              \n",
              "14  Adelie  Torgersen 38.6           21.2          191              \n",
              "15  Adelie  Torgersen 34.6           21.1          198              \n",
              "16  Adelie  Torgersen 36.6           17.8          185              \n",
              "17  Adelie  Torgersen 38.7           19.0          195              \n",
              "18  Adelie  Torgersen 42.5           20.7          197              \n",
              "19  Adelie  Torgersen 34.4           18.4          184              \n",
              "20  Adelie  Torgersen 46.0           21.5          194              \n",
              "21  Adelie  Biscoe    37.8           18.3          174              \n",
              "22  Adelie  Biscoe    37.7           18.7          180              \n",
              "23  Adelie  Biscoe    35.9           19.2          189              \n",
              "24  Adelie  Biscoe    38.2           18.1          185              \n",
              "25  Adelie  Biscoe    38.8           17.2          180              \n",
              "26  Adelie  Biscoe    35.3           18.9          187              \n",
              "27  Adelie  Biscoe    40.6           18.6          183              \n",
              "28  Adelie  Biscoe    40.5           17.9          187              \n",
              "29  Adelie  Biscoe    37.9           18.6          172              \n",
              "30  Adelie  Biscoe    40.5           18.9          180              \n",
              "⋮   ⋮       ⋮         ⋮              ⋮             ⋮                \n",
              "123 Adelie  Torgersen 40.2           17.0          176              \n",
              "124 Adelie  Torgersen 41.4           18.5          202              \n",
              "125 Adelie  Torgersen 35.2           15.9          186              \n",
              "126 Adelie  Torgersen 40.6           19.0          199              \n",
              "127 Adelie  Torgersen 38.8           17.6          191              \n",
              "128 Adelie  Torgersen 41.5           18.3          195              \n",
              "129 Adelie  Torgersen 39.0           17.1          191              \n",
              "130 Adelie  Torgersen 44.1           18.0          210              \n",
              "131 Adelie  Torgersen 38.5           17.9          190              \n",
              "132 Adelie  Torgersen 43.1           19.2          197              \n",
              "133 Adelie  Dream     36.8           18.5          193              \n",
              "134 Adelie  Dream     37.5           18.5          199              \n",
              "135 Adelie  Dream     38.1           17.6          187              \n",
              "136 Adelie  Dream     41.1           17.5          190              \n",
              "137 Adelie  Dream     35.6           17.5          191              \n",
              "138 Adelie  Dream     40.2           20.1          200              \n",
              "139 Adelie  Dream     37.0           16.5          185              \n",
              "140 Adelie  Dream     39.7           17.9          193              \n",
              "141 Adelie  Dream     40.2           17.1          193              \n",
              "142 Adelie  Dream     40.6           17.2          187              \n",
              "143 Adelie  Dream     32.1           15.5          188              \n",
              "144 Adelie  Dream     40.7           17.0          190              \n",
              "145 Adelie  Dream     37.3           16.8          192              \n",
              "146 Adelie  Dream     39.0           18.7          185              \n",
              "147 Adelie  Dream     39.2           18.6          190              \n",
              "148 Adelie  Dream     36.6           18.4          184              \n",
              "149 Adelie  Dream     36.0           17.8          195              \n",
              "150 Adelie  Dream     37.8           18.1          193              \n",
              "151 Adelie  Dream     36.0           17.1          187              \n",
              "152 Adelie  Dream     41.5           18.5          201              \n",
              "    body_mass_g sex    year\n",
              "1   3750        male   2007\n",
              "2   3800        female 2007\n",
              "3   3250        female 2007\n",
              "4     NA        NA     2007\n",
              "5   3450        female 2007\n",
              "6   3650        male   2007\n",
              "7   3625        female 2007\n",
              "8   4675        male   2007\n",
              "9   3475        NA     2007\n",
              "10  4250        NA     2007\n",
              "11  3300        NA     2007\n",
              "12  3700        NA     2007\n",
              "13  3200        female 2007\n",
              "14  3800        male   2007\n",
              "15  4400        male   2007\n",
              "16  3700        female 2007\n",
              "17  3450        female 2007\n",
              "18  4500        male   2007\n",
              "19  3325        female 2007\n",
              "20  4200        male   2007\n",
              "21  3400        female 2007\n",
              "22  3600        male   2007\n",
              "23  3800        female 2007\n",
              "24  3950        male   2007\n",
              "25  3800        male   2007\n",
              "26  3800        female 2007\n",
              "27  3550        male   2007\n",
              "28  3200        female 2007\n",
              "29  3150        female 2007\n",
              "30  3950        male   2007\n",
              "⋮   ⋮           ⋮      ⋮   \n",
              "123 3450        female 2009\n",
              "124 3875        male   2009\n",
              "125 3050        female 2009\n",
              "126 4000        male   2009\n",
              "127 3275        female 2009\n",
              "128 4300        male   2009\n",
              "129 3050        female 2009\n",
              "130 4000        male   2009\n",
              "131 3325        female 2009\n",
              "132 3500        male   2009\n",
              "133 3500        female 2009\n",
              "134 4475        male   2009\n",
              "135 3425        female 2009\n",
              "136 3900        male   2009\n",
              "137 3175        female 2009\n",
              "138 3975        male   2009\n",
              "139 3400        female 2009\n",
              "140 4250        male   2009\n",
              "141 3400        female 2009\n",
              "142 3475        male   2009\n",
              "143 3050        female 2009\n",
              "144 3725        male   2009\n",
              "145 3000        female 2009\n",
              "146 3650        male   2009\n",
              "147 4250        male   2009\n",
              "148 3475        female 2009\n",
              "149 3450        female 2009\n",
              "150 3750        male   2009\n",
              "151 3700        female 2009\n",
              "152 4000        male   2009"
            ]
          },
          "metadata": {}
        }
      ]
    },
    {
      "cell_type": "code",
      "source": [
        "penguins %>%\n",
        "  filter(body_mass_g > 3000 & species==\"Adelie\")"
      ],
      "metadata": {
        "colab": {
          "base_uri": "https://localhost:8080/",
          "height": 1000
        },
        "id": "jBvw9imNqRx7",
        "outputId": "0f21ed26-cfbd-41a5-eda6-c0f384d68ad8"
      },
      "execution_count": 18,
      "outputs": [
        {
          "output_type": "display_data",
          "data": {
            "text/html": [
              "<table class=\"dataframe\">\n",
              "<caption>A tibble: 142 × 8</caption>\n",
              "<thead>\n",
              "\t<tr><th scope=col>species</th><th scope=col>island</th><th scope=col>bill_length_mm</th><th scope=col>bill_depth_mm</th><th scope=col>flipper_length_mm</th><th scope=col>body_mass_g</th><th scope=col>sex</th><th scope=col>year</th></tr>\n",
              "\t<tr><th scope=col>&lt;fct&gt;</th><th scope=col>&lt;fct&gt;</th><th scope=col>&lt;dbl&gt;</th><th scope=col>&lt;dbl&gt;</th><th scope=col>&lt;int&gt;</th><th scope=col>&lt;int&gt;</th><th scope=col>&lt;fct&gt;</th><th scope=col>&lt;int&gt;</th></tr>\n",
              "</thead>\n",
              "<tbody>\n",
              "\t<tr><td>Adelie</td><td>Torgersen</td><td>39.1</td><td>18.7</td><td>181</td><td>3750</td><td>male  </td><td>2007</td></tr>\n",
              "\t<tr><td>Adelie</td><td>Torgersen</td><td>39.5</td><td>17.4</td><td>186</td><td>3800</td><td>female</td><td>2007</td></tr>\n",
              "\t<tr><td>Adelie</td><td>Torgersen</td><td>40.3</td><td>18.0</td><td>195</td><td>3250</td><td>female</td><td>2007</td></tr>\n",
              "\t<tr><td>Adelie</td><td>Torgersen</td><td>36.7</td><td>19.3</td><td>193</td><td>3450</td><td>female</td><td>2007</td></tr>\n",
              "\t<tr><td>Adelie</td><td>Torgersen</td><td>39.3</td><td>20.6</td><td>190</td><td>3650</td><td>male  </td><td>2007</td></tr>\n",
              "\t<tr><td>Adelie</td><td>Torgersen</td><td>38.9</td><td>17.8</td><td>181</td><td>3625</td><td>female</td><td>2007</td></tr>\n",
              "\t<tr><td>Adelie</td><td>Torgersen</td><td>39.2</td><td>19.6</td><td>195</td><td>4675</td><td>male  </td><td>2007</td></tr>\n",
              "\t<tr><td>Adelie</td><td>Torgersen</td><td>34.1</td><td>18.1</td><td>193</td><td>3475</td><td>NA    </td><td>2007</td></tr>\n",
              "\t<tr><td>Adelie</td><td>Torgersen</td><td>42.0</td><td>20.2</td><td>190</td><td>4250</td><td>NA    </td><td>2007</td></tr>\n",
              "\t<tr><td>Adelie</td><td>Torgersen</td><td>37.8</td><td>17.1</td><td>186</td><td>3300</td><td>NA    </td><td>2007</td></tr>\n",
              "\t<tr><td>Adelie</td><td>Torgersen</td><td>37.8</td><td>17.3</td><td>180</td><td>3700</td><td>NA    </td><td>2007</td></tr>\n",
              "\t<tr><td>Adelie</td><td>Torgersen</td><td>41.1</td><td>17.6</td><td>182</td><td>3200</td><td>female</td><td>2007</td></tr>\n",
              "\t<tr><td>Adelie</td><td>Torgersen</td><td>38.6</td><td>21.2</td><td>191</td><td>3800</td><td>male  </td><td>2007</td></tr>\n",
              "\t<tr><td>Adelie</td><td>Torgersen</td><td>34.6</td><td>21.1</td><td>198</td><td>4400</td><td>male  </td><td>2007</td></tr>\n",
              "\t<tr><td>Adelie</td><td>Torgersen</td><td>36.6</td><td>17.8</td><td>185</td><td>3700</td><td>female</td><td>2007</td></tr>\n",
              "\t<tr><td>Adelie</td><td>Torgersen</td><td>38.7</td><td>19.0</td><td>195</td><td>3450</td><td>female</td><td>2007</td></tr>\n",
              "\t<tr><td>Adelie</td><td>Torgersen</td><td>42.5</td><td>20.7</td><td>197</td><td>4500</td><td>male  </td><td>2007</td></tr>\n",
              "\t<tr><td>Adelie</td><td>Torgersen</td><td>34.4</td><td>18.4</td><td>184</td><td>3325</td><td>female</td><td>2007</td></tr>\n",
              "\t<tr><td>Adelie</td><td>Torgersen</td><td>46.0</td><td>21.5</td><td>194</td><td>4200</td><td>male  </td><td>2007</td></tr>\n",
              "\t<tr><td>Adelie</td><td>Biscoe   </td><td>37.8</td><td>18.3</td><td>174</td><td>3400</td><td>female</td><td>2007</td></tr>\n",
              "\t<tr><td>Adelie</td><td>Biscoe   </td><td>37.7</td><td>18.7</td><td>180</td><td>3600</td><td>male  </td><td>2007</td></tr>\n",
              "\t<tr><td>Adelie</td><td>Biscoe   </td><td>35.9</td><td>19.2</td><td>189</td><td>3800</td><td>female</td><td>2007</td></tr>\n",
              "\t<tr><td>Adelie</td><td>Biscoe   </td><td>38.2</td><td>18.1</td><td>185</td><td>3950</td><td>male  </td><td>2007</td></tr>\n",
              "\t<tr><td>Adelie</td><td>Biscoe   </td><td>38.8</td><td>17.2</td><td>180</td><td>3800</td><td>male  </td><td>2007</td></tr>\n",
              "\t<tr><td>Adelie</td><td>Biscoe   </td><td>35.3</td><td>18.9</td><td>187</td><td>3800</td><td>female</td><td>2007</td></tr>\n",
              "\t<tr><td>Adelie</td><td>Biscoe   </td><td>40.6</td><td>18.6</td><td>183</td><td>3550</td><td>male  </td><td>2007</td></tr>\n",
              "\t<tr><td>Adelie</td><td>Biscoe   </td><td>40.5</td><td>17.9</td><td>187</td><td>3200</td><td>female</td><td>2007</td></tr>\n",
              "\t<tr><td>Adelie</td><td>Biscoe   </td><td>37.9</td><td>18.6</td><td>172</td><td>3150</td><td>female</td><td>2007</td></tr>\n",
              "\t<tr><td>Adelie</td><td>Biscoe   </td><td>40.5</td><td>18.9</td><td>180</td><td>3950</td><td>male  </td><td>2007</td></tr>\n",
              "\t<tr><td>Adelie</td><td>Dream    </td><td>39.5</td><td>16.7</td><td>178</td><td>3250</td><td>female</td><td>2007</td></tr>\n",
              "\t<tr><td>⋮</td><td>⋮</td><td>⋮</td><td>⋮</td><td>⋮</td><td>⋮</td><td>⋮</td><td>⋮</td></tr>\n",
              "\t<tr><td>Adelie</td><td>Torgersen</td><td>37.7</td><td>19.8</td><td>198</td><td>3500</td><td>male  </td><td>2009</td></tr>\n",
              "\t<tr><td>Adelie</td><td>Torgersen</td><td>40.2</td><td>17.0</td><td>176</td><td>3450</td><td>female</td><td>2009</td></tr>\n",
              "\t<tr><td>Adelie</td><td>Torgersen</td><td>41.4</td><td>18.5</td><td>202</td><td>3875</td><td>male  </td><td>2009</td></tr>\n",
              "\t<tr><td>Adelie</td><td>Torgersen</td><td>35.2</td><td>15.9</td><td>186</td><td>3050</td><td>female</td><td>2009</td></tr>\n",
              "\t<tr><td>Adelie</td><td>Torgersen</td><td>40.6</td><td>19.0</td><td>199</td><td>4000</td><td>male  </td><td>2009</td></tr>\n",
              "\t<tr><td>Adelie</td><td>Torgersen</td><td>38.8</td><td>17.6</td><td>191</td><td>3275</td><td>female</td><td>2009</td></tr>\n",
              "\t<tr><td>Adelie</td><td>Torgersen</td><td>41.5</td><td>18.3</td><td>195</td><td>4300</td><td>male  </td><td>2009</td></tr>\n",
              "\t<tr><td>Adelie</td><td>Torgersen</td><td>39.0</td><td>17.1</td><td>191</td><td>3050</td><td>female</td><td>2009</td></tr>\n",
              "\t<tr><td>Adelie</td><td>Torgersen</td><td>44.1</td><td>18.0</td><td>210</td><td>4000</td><td>male  </td><td>2009</td></tr>\n",
              "\t<tr><td>Adelie</td><td>Torgersen</td><td>38.5</td><td>17.9</td><td>190</td><td>3325</td><td>female</td><td>2009</td></tr>\n",
              "\t<tr><td>Adelie</td><td>Torgersen</td><td>43.1</td><td>19.2</td><td>197</td><td>3500</td><td>male  </td><td>2009</td></tr>\n",
              "\t<tr><td>Adelie</td><td>Dream    </td><td>36.8</td><td>18.5</td><td>193</td><td>3500</td><td>female</td><td>2009</td></tr>\n",
              "\t<tr><td>Adelie</td><td>Dream    </td><td>37.5</td><td>18.5</td><td>199</td><td>4475</td><td>male  </td><td>2009</td></tr>\n",
              "\t<tr><td>Adelie</td><td>Dream    </td><td>38.1</td><td>17.6</td><td>187</td><td>3425</td><td>female</td><td>2009</td></tr>\n",
              "\t<tr><td>Adelie</td><td>Dream    </td><td>41.1</td><td>17.5</td><td>190</td><td>3900</td><td>male  </td><td>2009</td></tr>\n",
              "\t<tr><td>Adelie</td><td>Dream    </td><td>35.6</td><td>17.5</td><td>191</td><td>3175</td><td>female</td><td>2009</td></tr>\n",
              "\t<tr><td>Adelie</td><td>Dream    </td><td>40.2</td><td>20.1</td><td>200</td><td>3975</td><td>male  </td><td>2009</td></tr>\n",
              "\t<tr><td>Adelie</td><td>Dream    </td><td>37.0</td><td>16.5</td><td>185</td><td>3400</td><td>female</td><td>2009</td></tr>\n",
              "\t<tr><td>Adelie</td><td>Dream    </td><td>39.7</td><td>17.9</td><td>193</td><td>4250</td><td>male  </td><td>2009</td></tr>\n",
              "\t<tr><td>Adelie</td><td>Dream    </td><td>40.2</td><td>17.1</td><td>193</td><td>3400</td><td>female</td><td>2009</td></tr>\n",
              "\t<tr><td>Adelie</td><td>Dream    </td><td>40.6</td><td>17.2</td><td>187</td><td>3475</td><td>male  </td><td>2009</td></tr>\n",
              "\t<tr><td>Adelie</td><td>Dream    </td><td>32.1</td><td>15.5</td><td>188</td><td>3050</td><td>female</td><td>2009</td></tr>\n",
              "\t<tr><td>Adelie</td><td>Dream    </td><td>40.7</td><td>17.0</td><td>190</td><td>3725</td><td>male  </td><td>2009</td></tr>\n",
              "\t<tr><td>Adelie</td><td>Dream    </td><td>39.0</td><td>18.7</td><td>185</td><td>3650</td><td>male  </td><td>2009</td></tr>\n",
              "\t<tr><td>Adelie</td><td>Dream    </td><td>39.2</td><td>18.6</td><td>190</td><td>4250</td><td>male  </td><td>2009</td></tr>\n",
              "\t<tr><td>Adelie</td><td>Dream    </td><td>36.6</td><td>18.4</td><td>184</td><td>3475</td><td>female</td><td>2009</td></tr>\n",
              "\t<tr><td>Adelie</td><td>Dream    </td><td>36.0</td><td>17.8</td><td>195</td><td>3450</td><td>female</td><td>2009</td></tr>\n",
              "\t<tr><td>Adelie</td><td>Dream    </td><td>37.8</td><td>18.1</td><td>193</td><td>3750</td><td>male  </td><td>2009</td></tr>\n",
              "\t<tr><td>Adelie</td><td>Dream    </td><td>36.0</td><td>17.1</td><td>187</td><td>3700</td><td>female</td><td>2009</td></tr>\n",
              "\t<tr><td>Adelie</td><td>Dream    </td><td>41.5</td><td>18.5</td><td>201</td><td>4000</td><td>male  </td><td>2009</td></tr>\n",
              "</tbody>\n",
              "</table>\n"
            ],
            "text/markdown": "\nA tibble: 142 × 8\n\n| species &lt;fct&gt; | island &lt;fct&gt; | bill_length_mm &lt;dbl&gt; | bill_depth_mm &lt;dbl&gt; | flipper_length_mm &lt;int&gt; | body_mass_g &lt;int&gt; | sex &lt;fct&gt; | year &lt;int&gt; |\n|---|---|---|---|---|---|---|---|\n| Adelie | Torgersen | 39.1 | 18.7 | 181 | 3750 | male   | 2007 |\n| Adelie | Torgersen | 39.5 | 17.4 | 186 | 3800 | female | 2007 |\n| Adelie | Torgersen | 40.3 | 18.0 | 195 | 3250 | female | 2007 |\n| Adelie | Torgersen | 36.7 | 19.3 | 193 | 3450 | female | 2007 |\n| Adelie | Torgersen | 39.3 | 20.6 | 190 | 3650 | male   | 2007 |\n| Adelie | Torgersen | 38.9 | 17.8 | 181 | 3625 | female | 2007 |\n| Adelie | Torgersen | 39.2 | 19.6 | 195 | 4675 | male   | 2007 |\n| Adelie | Torgersen | 34.1 | 18.1 | 193 | 3475 | NA     | 2007 |\n| Adelie | Torgersen | 42.0 | 20.2 | 190 | 4250 | NA     | 2007 |\n| Adelie | Torgersen | 37.8 | 17.1 | 186 | 3300 | NA     | 2007 |\n| Adelie | Torgersen | 37.8 | 17.3 | 180 | 3700 | NA     | 2007 |\n| Adelie | Torgersen | 41.1 | 17.6 | 182 | 3200 | female | 2007 |\n| Adelie | Torgersen | 38.6 | 21.2 | 191 | 3800 | male   | 2007 |\n| Adelie | Torgersen | 34.6 | 21.1 | 198 | 4400 | male   | 2007 |\n| Adelie | Torgersen | 36.6 | 17.8 | 185 | 3700 | female | 2007 |\n| Adelie | Torgersen | 38.7 | 19.0 | 195 | 3450 | female | 2007 |\n| Adelie | Torgersen | 42.5 | 20.7 | 197 | 4500 | male   | 2007 |\n| Adelie | Torgersen | 34.4 | 18.4 | 184 | 3325 | female | 2007 |\n| Adelie | Torgersen | 46.0 | 21.5 | 194 | 4200 | male   | 2007 |\n| Adelie | Biscoe    | 37.8 | 18.3 | 174 | 3400 | female | 2007 |\n| Adelie | Biscoe    | 37.7 | 18.7 | 180 | 3600 | male   | 2007 |\n| Adelie | Biscoe    | 35.9 | 19.2 | 189 | 3800 | female | 2007 |\n| Adelie | Biscoe    | 38.2 | 18.1 | 185 | 3950 | male   | 2007 |\n| Adelie | Biscoe    | 38.8 | 17.2 | 180 | 3800 | male   | 2007 |\n| Adelie | Biscoe    | 35.3 | 18.9 | 187 | 3800 | female | 2007 |\n| Adelie | Biscoe    | 40.6 | 18.6 | 183 | 3550 | male   | 2007 |\n| Adelie | Biscoe    | 40.5 | 17.9 | 187 | 3200 | female | 2007 |\n| Adelie | Biscoe    | 37.9 | 18.6 | 172 | 3150 | female | 2007 |\n| Adelie | Biscoe    | 40.5 | 18.9 | 180 | 3950 | male   | 2007 |\n| Adelie | Dream     | 39.5 | 16.7 | 178 | 3250 | female | 2007 |\n| ⋮ | ⋮ | ⋮ | ⋮ | ⋮ | ⋮ | ⋮ | ⋮ |\n| Adelie | Torgersen | 37.7 | 19.8 | 198 | 3500 | male   | 2009 |\n| Adelie | Torgersen | 40.2 | 17.0 | 176 | 3450 | female | 2009 |\n| Adelie | Torgersen | 41.4 | 18.5 | 202 | 3875 | male   | 2009 |\n| Adelie | Torgersen | 35.2 | 15.9 | 186 | 3050 | female | 2009 |\n| Adelie | Torgersen | 40.6 | 19.0 | 199 | 4000 | male   | 2009 |\n| Adelie | Torgersen | 38.8 | 17.6 | 191 | 3275 | female | 2009 |\n| Adelie | Torgersen | 41.5 | 18.3 | 195 | 4300 | male   | 2009 |\n| Adelie | Torgersen | 39.0 | 17.1 | 191 | 3050 | female | 2009 |\n| Adelie | Torgersen | 44.1 | 18.0 | 210 | 4000 | male   | 2009 |\n| Adelie | Torgersen | 38.5 | 17.9 | 190 | 3325 | female | 2009 |\n| Adelie | Torgersen | 43.1 | 19.2 | 197 | 3500 | male   | 2009 |\n| Adelie | Dream     | 36.8 | 18.5 | 193 | 3500 | female | 2009 |\n| Adelie | Dream     | 37.5 | 18.5 | 199 | 4475 | male   | 2009 |\n| Adelie | Dream     | 38.1 | 17.6 | 187 | 3425 | female | 2009 |\n| Adelie | Dream     | 41.1 | 17.5 | 190 | 3900 | male   | 2009 |\n| Adelie | Dream     | 35.6 | 17.5 | 191 | 3175 | female | 2009 |\n| Adelie | Dream     | 40.2 | 20.1 | 200 | 3975 | male   | 2009 |\n| Adelie | Dream     | 37.0 | 16.5 | 185 | 3400 | female | 2009 |\n| Adelie | Dream     | 39.7 | 17.9 | 193 | 4250 | male   | 2009 |\n| Adelie | Dream     | 40.2 | 17.1 | 193 | 3400 | female | 2009 |\n| Adelie | Dream     | 40.6 | 17.2 | 187 | 3475 | male   | 2009 |\n| Adelie | Dream     | 32.1 | 15.5 | 188 | 3050 | female | 2009 |\n| Adelie | Dream     | 40.7 | 17.0 | 190 | 3725 | male   | 2009 |\n| Adelie | Dream     | 39.0 | 18.7 | 185 | 3650 | male   | 2009 |\n| Adelie | Dream     | 39.2 | 18.6 | 190 | 4250 | male   | 2009 |\n| Adelie | Dream     | 36.6 | 18.4 | 184 | 3475 | female | 2009 |\n| Adelie | Dream     | 36.0 | 17.8 | 195 | 3450 | female | 2009 |\n| Adelie | Dream     | 37.8 | 18.1 | 193 | 3750 | male   | 2009 |\n| Adelie | Dream     | 36.0 | 17.1 | 187 | 3700 | female | 2009 |\n| Adelie | Dream     | 41.5 | 18.5 | 201 | 4000 | male   | 2009 |\n\n",
            "text/latex": "A tibble: 142 × 8\n\\begin{tabular}{llllllll}\n species & island & bill\\_length\\_mm & bill\\_depth\\_mm & flipper\\_length\\_mm & body\\_mass\\_g & sex & year\\\\\n <fct> & <fct> & <dbl> & <dbl> & <int> & <int> & <fct> & <int>\\\\\n\\hline\n\t Adelie & Torgersen & 39.1 & 18.7 & 181 & 3750 & male   & 2007\\\\\n\t Adelie & Torgersen & 39.5 & 17.4 & 186 & 3800 & female & 2007\\\\\n\t Adelie & Torgersen & 40.3 & 18.0 & 195 & 3250 & female & 2007\\\\\n\t Adelie & Torgersen & 36.7 & 19.3 & 193 & 3450 & female & 2007\\\\\n\t Adelie & Torgersen & 39.3 & 20.6 & 190 & 3650 & male   & 2007\\\\\n\t Adelie & Torgersen & 38.9 & 17.8 & 181 & 3625 & female & 2007\\\\\n\t Adelie & Torgersen & 39.2 & 19.6 & 195 & 4675 & male   & 2007\\\\\n\t Adelie & Torgersen & 34.1 & 18.1 & 193 & 3475 & NA     & 2007\\\\\n\t Adelie & Torgersen & 42.0 & 20.2 & 190 & 4250 & NA     & 2007\\\\\n\t Adelie & Torgersen & 37.8 & 17.1 & 186 & 3300 & NA     & 2007\\\\\n\t Adelie & Torgersen & 37.8 & 17.3 & 180 & 3700 & NA     & 2007\\\\\n\t Adelie & Torgersen & 41.1 & 17.6 & 182 & 3200 & female & 2007\\\\\n\t Adelie & Torgersen & 38.6 & 21.2 & 191 & 3800 & male   & 2007\\\\\n\t Adelie & Torgersen & 34.6 & 21.1 & 198 & 4400 & male   & 2007\\\\\n\t Adelie & Torgersen & 36.6 & 17.8 & 185 & 3700 & female & 2007\\\\\n\t Adelie & Torgersen & 38.7 & 19.0 & 195 & 3450 & female & 2007\\\\\n\t Adelie & Torgersen & 42.5 & 20.7 & 197 & 4500 & male   & 2007\\\\\n\t Adelie & Torgersen & 34.4 & 18.4 & 184 & 3325 & female & 2007\\\\\n\t Adelie & Torgersen & 46.0 & 21.5 & 194 & 4200 & male   & 2007\\\\\n\t Adelie & Biscoe    & 37.8 & 18.3 & 174 & 3400 & female & 2007\\\\\n\t Adelie & Biscoe    & 37.7 & 18.7 & 180 & 3600 & male   & 2007\\\\\n\t Adelie & Biscoe    & 35.9 & 19.2 & 189 & 3800 & female & 2007\\\\\n\t Adelie & Biscoe    & 38.2 & 18.1 & 185 & 3950 & male   & 2007\\\\\n\t Adelie & Biscoe    & 38.8 & 17.2 & 180 & 3800 & male   & 2007\\\\\n\t Adelie & Biscoe    & 35.3 & 18.9 & 187 & 3800 & female & 2007\\\\\n\t Adelie & Biscoe    & 40.6 & 18.6 & 183 & 3550 & male   & 2007\\\\\n\t Adelie & Biscoe    & 40.5 & 17.9 & 187 & 3200 & female & 2007\\\\\n\t Adelie & Biscoe    & 37.9 & 18.6 & 172 & 3150 & female & 2007\\\\\n\t Adelie & Biscoe    & 40.5 & 18.9 & 180 & 3950 & male   & 2007\\\\\n\t Adelie & Dream     & 39.5 & 16.7 & 178 & 3250 & female & 2007\\\\\n\t ⋮ & ⋮ & ⋮ & ⋮ & ⋮ & ⋮ & ⋮ & ⋮\\\\\n\t Adelie & Torgersen & 37.7 & 19.8 & 198 & 3500 & male   & 2009\\\\\n\t Adelie & Torgersen & 40.2 & 17.0 & 176 & 3450 & female & 2009\\\\\n\t Adelie & Torgersen & 41.4 & 18.5 & 202 & 3875 & male   & 2009\\\\\n\t Adelie & Torgersen & 35.2 & 15.9 & 186 & 3050 & female & 2009\\\\\n\t Adelie & Torgersen & 40.6 & 19.0 & 199 & 4000 & male   & 2009\\\\\n\t Adelie & Torgersen & 38.8 & 17.6 & 191 & 3275 & female & 2009\\\\\n\t Adelie & Torgersen & 41.5 & 18.3 & 195 & 4300 & male   & 2009\\\\\n\t Adelie & Torgersen & 39.0 & 17.1 & 191 & 3050 & female & 2009\\\\\n\t Adelie & Torgersen & 44.1 & 18.0 & 210 & 4000 & male   & 2009\\\\\n\t Adelie & Torgersen & 38.5 & 17.9 & 190 & 3325 & female & 2009\\\\\n\t Adelie & Torgersen & 43.1 & 19.2 & 197 & 3500 & male   & 2009\\\\\n\t Adelie & Dream     & 36.8 & 18.5 & 193 & 3500 & female & 2009\\\\\n\t Adelie & Dream     & 37.5 & 18.5 & 199 & 4475 & male   & 2009\\\\\n\t Adelie & Dream     & 38.1 & 17.6 & 187 & 3425 & female & 2009\\\\\n\t Adelie & Dream     & 41.1 & 17.5 & 190 & 3900 & male   & 2009\\\\\n\t Adelie & Dream     & 35.6 & 17.5 & 191 & 3175 & female & 2009\\\\\n\t Adelie & Dream     & 40.2 & 20.1 & 200 & 3975 & male   & 2009\\\\\n\t Adelie & Dream     & 37.0 & 16.5 & 185 & 3400 & female & 2009\\\\\n\t Adelie & Dream     & 39.7 & 17.9 & 193 & 4250 & male   & 2009\\\\\n\t Adelie & Dream     & 40.2 & 17.1 & 193 & 3400 & female & 2009\\\\\n\t Adelie & Dream     & 40.6 & 17.2 & 187 & 3475 & male   & 2009\\\\\n\t Adelie & Dream     & 32.1 & 15.5 & 188 & 3050 & female & 2009\\\\\n\t Adelie & Dream     & 40.7 & 17.0 & 190 & 3725 & male   & 2009\\\\\n\t Adelie & Dream     & 39.0 & 18.7 & 185 & 3650 & male   & 2009\\\\\n\t Adelie & Dream     & 39.2 & 18.6 & 190 & 4250 & male   & 2009\\\\\n\t Adelie & Dream     & 36.6 & 18.4 & 184 & 3475 & female & 2009\\\\\n\t Adelie & Dream     & 36.0 & 17.8 & 195 & 3450 & female & 2009\\\\\n\t Adelie & Dream     & 37.8 & 18.1 & 193 & 3750 & male   & 2009\\\\\n\t Adelie & Dream     & 36.0 & 17.1 & 187 & 3700 & female & 2009\\\\\n\t Adelie & Dream     & 41.5 & 18.5 & 201 & 4000 & male   & 2009\\\\\n\\end{tabular}\n",
            "text/plain": [
              "    species island    bill_length_mm bill_depth_mm flipper_length_mm\n",
              "1   Adelie  Torgersen 39.1           18.7          181              \n",
              "2   Adelie  Torgersen 39.5           17.4          186              \n",
              "3   Adelie  Torgersen 40.3           18.0          195              \n",
              "4   Adelie  Torgersen 36.7           19.3          193              \n",
              "5   Adelie  Torgersen 39.3           20.6          190              \n",
              "6   Adelie  Torgersen 38.9           17.8          181              \n",
              "7   Adelie  Torgersen 39.2           19.6          195              \n",
              "8   Adelie  Torgersen 34.1           18.1          193              \n",
              "9   Adelie  Torgersen 42.0           20.2          190              \n",
              "10  Adelie  Torgersen 37.8           17.1          186              \n",
              "11  Adelie  Torgersen 37.8           17.3          180              \n",
              "12  Adelie  Torgersen 41.1           17.6          182              \n",
              "13  Adelie  Torgersen 38.6           21.2          191              \n",
              "14  Adelie  Torgersen 34.6           21.1          198              \n",
              "15  Adelie  Torgersen 36.6           17.8          185              \n",
              "16  Adelie  Torgersen 38.7           19.0          195              \n",
              "17  Adelie  Torgersen 42.5           20.7          197              \n",
              "18  Adelie  Torgersen 34.4           18.4          184              \n",
              "19  Adelie  Torgersen 46.0           21.5          194              \n",
              "20  Adelie  Biscoe    37.8           18.3          174              \n",
              "21  Adelie  Biscoe    37.7           18.7          180              \n",
              "22  Adelie  Biscoe    35.9           19.2          189              \n",
              "23  Adelie  Biscoe    38.2           18.1          185              \n",
              "24  Adelie  Biscoe    38.8           17.2          180              \n",
              "25  Adelie  Biscoe    35.3           18.9          187              \n",
              "26  Adelie  Biscoe    40.6           18.6          183              \n",
              "27  Adelie  Biscoe    40.5           17.9          187              \n",
              "28  Adelie  Biscoe    37.9           18.6          172              \n",
              "29  Adelie  Biscoe    40.5           18.9          180              \n",
              "30  Adelie  Dream     39.5           16.7          178              \n",
              "⋮   ⋮       ⋮         ⋮              ⋮             ⋮                \n",
              "113 Adelie  Torgersen 37.7           19.8          198              \n",
              "114 Adelie  Torgersen 40.2           17.0          176              \n",
              "115 Adelie  Torgersen 41.4           18.5          202              \n",
              "116 Adelie  Torgersen 35.2           15.9          186              \n",
              "117 Adelie  Torgersen 40.6           19.0          199              \n",
              "118 Adelie  Torgersen 38.8           17.6          191              \n",
              "119 Adelie  Torgersen 41.5           18.3          195              \n",
              "120 Adelie  Torgersen 39.0           17.1          191              \n",
              "121 Adelie  Torgersen 44.1           18.0          210              \n",
              "122 Adelie  Torgersen 38.5           17.9          190              \n",
              "123 Adelie  Torgersen 43.1           19.2          197              \n",
              "124 Adelie  Dream     36.8           18.5          193              \n",
              "125 Adelie  Dream     37.5           18.5          199              \n",
              "126 Adelie  Dream     38.1           17.6          187              \n",
              "127 Adelie  Dream     41.1           17.5          190              \n",
              "128 Adelie  Dream     35.6           17.5          191              \n",
              "129 Adelie  Dream     40.2           20.1          200              \n",
              "130 Adelie  Dream     37.0           16.5          185              \n",
              "131 Adelie  Dream     39.7           17.9          193              \n",
              "132 Adelie  Dream     40.2           17.1          193              \n",
              "133 Adelie  Dream     40.6           17.2          187              \n",
              "134 Adelie  Dream     32.1           15.5          188              \n",
              "135 Adelie  Dream     40.7           17.0          190              \n",
              "136 Adelie  Dream     39.0           18.7          185              \n",
              "137 Adelie  Dream     39.2           18.6          190              \n",
              "138 Adelie  Dream     36.6           18.4          184              \n",
              "139 Adelie  Dream     36.0           17.8          195              \n",
              "140 Adelie  Dream     37.8           18.1          193              \n",
              "141 Adelie  Dream     36.0           17.1          187              \n",
              "142 Adelie  Dream     41.5           18.5          201              \n",
              "    body_mass_g sex    year\n",
              "1   3750        male   2007\n",
              "2   3800        female 2007\n",
              "3   3250        female 2007\n",
              "4   3450        female 2007\n",
              "5   3650        male   2007\n",
              "6   3625        female 2007\n",
              "7   4675        male   2007\n",
              "8   3475        NA     2007\n",
              "9   4250        NA     2007\n",
              "10  3300        NA     2007\n",
              "11  3700        NA     2007\n",
              "12  3200        female 2007\n",
              "13  3800        male   2007\n",
              "14  4400        male   2007\n",
              "15  3700        female 2007\n",
              "16  3450        female 2007\n",
              "17  4500        male   2007\n",
              "18  3325        female 2007\n",
              "19  4200        male   2007\n",
              "20  3400        female 2007\n",
              "21  3600        male   2007\n",
              "22  3800        female 2007\n",
              "23  3950        male   2007\n",
              "24  3800        male   2007\n",
              "25  3800        female 2007\n",
              "26  3550        male   2007\n",
              "27  3200        female 2007\n",
              "28  3150        female 2007\n",
              "29  3950        male   2007\n",
              "30  3250        female 2007\n",
              "⋮   ⋮           ⋮      ⋮   \n",
              "113 3500        male   2009\n",
              "114 3450        female 2009\n",
              "115 3875        male   2009\n",
              "116 3050        female 2009\n",
              "117 4000        male   2009\n",
              "118 3275        female 2009\n",
              "119 4300        male   2009\n",
              "120 3050        female 2009\n",
              "121 4000        male   2009\n",
              "122 3325        female 2009\n",
              "123 3500        male   2009\n",
              "124 3500        female 2009\n",
              "125 4475        male   2009\n",
              "126 3425        female 2009\n",
              "127 3900        male   2009\n",
              "128 3175        female 2009\n",
              "129 3975        male   2009\n",
              "130 3400        female 2009\n",
              "131 4250        male   2009\n",
              "132 3400        female 2009\n",
              "133 3475        male   2009\n",
              "134 3050        female 2009\n",
              "135 3725        male   2009\n",
              "136 3650        male   2009\n",
              "137 4250        male   2009\n",
              "138 3475        female 2009\n",
              "139 3450        female 2009\n",
              "140 3750        male   2009\n",
              "141 3700        female 2009\n",
              "142 4000        male   2009"
            ]
          },
          "metadata": {}
        }
      ]
    },
    {
      "cell_type": "markdown",
      "source": [
        "To manipulate data in the dataset use **mutate** function by first calling **penguins and then** function"
      ],
      "metadata": {
        "id": "qIrmekzrrinx"
      }
    },
    {
      "cell_type": "code",
      "source": [
        "penguins %>%\n",
        "mutate (body_mass_kg = body_mass_g / 1000)"
      ],
      "metadata": {
        "colab": {
          "base_uri": "https://localhost:8080/",
          "height": 1000
        },
        "id": "O7wNlrhdrHAx",
        "outputId": "8d8b600c-5ce7-4183-f010-60aca14e49e3"
      },
      "execution_count": 22,
      "outputs": [
        {
          "output_type": "display_data",
          "data": {
            "text/html": [
              "<table class=\"dataframe\">\n",
              "<caption>A tibble: 344 × 9</caption>\n",
              "<thead>\n",
              "\t<tr><th scope=col>species</th><th scope=col>island</th><th scope=col>bill_length_mm</th><th scope=col>bill_depth_mm</th><th scope=col>flipper_length_mm</th><th scope=col>body_mass_g</th><th scope=col>sex</th><th scope=col>year</th><th scope=col>body_mass_kg</th></tr>\n",
              "\t<tr><th scope=col>&lt;fct&gt;</th><th scope=col>&lt;fct&gt;</th><th scope=col>&lt;dbl&gt;</th><th scope=col>&lt;dbl&gt;</th><th scope=col>&lt;int&gt;</th><th scope=col>&lt;int&gt;</th><th scope=col>&lt;fct&gt;</th><th scope=col>&lt;int&gt;</th><th scope=col>&lt;dbl&gt;</th></tr>\n",
              "</thead>\n",
              "<tbody>\n",
              "\t<tr><td>Adelie</td><td>Torgersen</td><td>39.1</td><td>18.7</td><td>181</td><td>3750</td><td>male  </td><td>2007</td><td>3.750</td></tr>\n",
              "\t<tr><td>Adelie</td><td>Torgersen</td><td>39.5</td><td>17.4</td><td>186</td><td>3800</td><td>female</td><td>2007</td><td>3.800</td></tr>\n",
              "\t<tr><td>Adelie</td><td>Torgersen</td><td>40.3</td><td>18.0</td><td>195</td><td>3250</td><td>female</td><td>2007</td><td>3.250</td></tr>\n",
              "\t<tr><td>Adelie</td><td>Torgersen</td><td>  NA</td><td>  NA</td><td> NA</td><td>  NA</td><td>NA    </td><td>2007</td><td>   NA</td></tr>\n",
              "\t<tr><td>Adelie</td><td>Torgersen</td><td>36.7</td><td>19.3</td><td>193</td><td>3450</td><td>female</td><td>2007</td><td>3.450</td></tr>\n",
              "\t<tr><td>Adelie</td><td>Torgersen</td><td>39.3</td><td>20.6</td><td>190</td><td>3650</td><td>male  </td><td>2007</td><td>3.650</td></tr>\n",
              "\t<tr><td>Adelie</td><td>Torgersen</td><td>38.9</td><td>17.8</td><td>181</td><td>3625</td><td>female</td><td>2007</td><td>3.625</td></tr>\n",
              "\t<tr><td>Adelie</td><td>Torgersen</td><td>39.2</td><td>19.6</td><td>195</td><td>4675</td><td>male  </td><td>2007</td><td>4.675</td></tr>\n",
              "\t<tr><td>Adelie</td><td>Torgersen</td><td>34.1</td><td>18.1</td><td>193</td><td>3475</td><td>NA    </td><td>2007</td><td>3.475</td></tr>\n",
              "\t<tr><td>Adelie</td><td>Torgersen</td><td>42.0</td><td>20.2</td><td>190</td><td>4250</td><td>NA    </td><td>2007</td><td>4.250</td></tr>\n",
              "\t<tr><td>Adelie</td><td>Torgersen</td><td>37.8</td><td>17.1</td><td>186</td><td>3300</td><td>NA    </td><td>2007</td><td>3.300</td></tr>\n",
              "\t<tr><td>Adelie</td><td>Torgersen</td><td>37.8</td><td>17.3</td><td>180</td><td>3700</td><td>NA    </td><td>2007</td><td>3.700</td></tr>\n",
              "\t<tr><td>Adelie</td><td>Torgersen</td><td>41.1</td><td>17.6</td><td>182</td><td>3200</td><td>female</td><td>2007</td><td>3.200</td></tr>\n",
              "\t<tr><td>Adelie</td><td>Torgersen</td><td>38.6</td><td>21.2</td><td>191</td><td>3800</td><td>male  </td><td>2007</td><td>3.800</td></tr>\n",
              "\t<tr><td>Adelie</td><td>Torgersen</td><td>34.6</td><td>21.1</td><td>198</td><td>4400</td><td>male  </td><td>2007</td><td>4.400</td></tr>\n",
              "\t<tr><td>Adelie</td><td>Torgersen</td><td>36.6</td><td>17.8</td><td>185</td><td>3700</td><td>female</td><td>2007</td><td>3.700</td></tr>\n",
              "\t<tr><td>Adelie</td><td>Torgersen</td><td>38.7</td><td>19.0</td><td>195</td><td>3450</td><td>female</td><td>2007</td><td>3.450</td></tr>\n",
              "\t<tr><td>Adelie</td><td>Torgersen</td><td>42.5</td><td>20.7</td><td>197</td><td>4500</td><td>male  </td><td>2007</td><td>4.500</td></tr>\n",
              "\t<tr><td>Adelie</td><td>Torgersen</td><td>34.4</td><td>18.4</td><td>184</td><td>3325</td><td>female</td><td>2007</td><td>3.325</td></tr>\n",
              "\t<tr><td>Adelie</td><td>Torgersen</td><td>46.0</td><td>21.5</td><td>194</td><td>4200</td><td>male  </td><td>2007</td><td>4.200</td></tr>\n",
              "\t<tr><td>Adelie</td><td>Biscoe   </td><td>37.8</td><td>18.3</td><td>174</td><td>3400</td><td>female</td><td>2007</td><td>3.400</td></tr>\n",
              "\t<tr><td>Adelie</td><td>Biscoe   </td><td>37.7</td><td>18.7</td><td>180</td><td>3600</td><td>male  </td><td>2007</td><td>3.600</td></tr>\n",
              "\t<tr><td>Adelie</td><td>Biscoe   </td><td>35.9</td><td>19.2</td><td>189</td><td>3800</td><td>female</td><td>2007</td><td>3.800</td></tr>\n",
              "\t<tr><td>Adelie</td><td>Biscoe   </td><td>38.2</td><td>18.1</td><td>185</td><td>3950</td><td>male  </td><td>2007</td><td>3.950</td></tr>\n",
              "\t<tr><td>Adelie</td><td>Biscoe   </td><td>38.8</td><td>17.2</td><td>180</td><td>3800</td><td>male  </td><td>2007</td><td>3.800</td></tr>\n",
              "\t<tr><td>Adelie</td><td>Biscoe   </td><td>35.3</td><td>18.9</td><td>187</td><td>3800</td><td>female</td><td>2007</td><td>3.800</td></tr>\n",
              "\t<tr><td>Adelie</td><td>Biscoe   </td><td>40.6</td><td>18.6</td><td>183</td><td>3550</td><td>male  </td><td>2007</td><td>3.550</td></tr>\n",
              "\t<tr><td>Adelie</td><td>Biscoe   </td><td>40.5</td><td>17.9</td><td>187</td><td>3200</td><td>female</td><td>2007</td><td>3.200</td></tr>\n",
              "\t<tr><td>Adelie</td><td>Biscoe   </td><td>37.9</td><td>18.6</td><td>172</td><td>3150</td><td>female</td><td>2007</td><td>3.150</td></tr>\n",
              "\t<tr><td>Adelie</td><td>Biscoe   </td><td>40.5</td><td>18.9</td><td>180</td><td>3950</td><td>male  </td><td>2007</td><td>3.950</td></tr>\n",
              "\t<tr><td>⋮</td><td>⋮</td><td>⋮</td><td>⋮</td><td>⋮</td><td>⋮</td><td>⋮</td><td>⋮</td><td>⋮</td></tr>\n",
              "\t<tr><td>Chinstrap</td><td>Dream</td><td>46.9</td><td>16.6</td><td>192</td><td>2700</td><td>female</td><td>2008</td><td>2.700</td></tr>\n",
              "\t<tr><td>Chinstrap</td><td>Dream</td><td>53.5</td><td>19.9</td><td>205</td><td>4500</td><td>male  </td><td>2008</td><td>4.500</td></tr>\n",
              "\t<tr><td>Chinstrap</td><td>Dream</td><td>49.0</td><td>19.5</td><td>210</td><td>3950</td><td>male  </td><td>2008</td><td>3.950</td></tr>\n",
              "\t<tr><td>Chinstrap</td><td>Dream</td><td>46.2</td><td>17.5</td><td>187</td><td>3650</td><td>female</td><td>2008</td><td>3.650</td></tr>\n",
              "\t<tr><td>Chinstrap</td><td>Dream</td><td>50.9</td><td>19.1</td><td>196</td><td>3550</td><td>male  </td><td>2008</td><td>3.550</td></tr>\n",
              "\t<tr><td>Chinstrap</td><td>Dream</td><td>45.5</td><td>17.0</td><td>196</td><td>3500</td><td>female</td><td>2008</td><td>3.500</td></tr>\n",
              "\t<tr><td>Chinstrap</td><td>Dream</td><td>50.9</td><td>17.9</td><td>196</td><td>3675</td><td>female</td><td>2009</td><td>3.675</td></tr>\n",
              "\t<tr><td>Chinstrap</td><td>Dream</td><td>50.8</td><td>18.5</td><td>201</td><td>4450</td><td>male  </td><td>2009</td><td>4.450</td></tr>\n",
              "\t<tr><td>Chinstrap</td><td>Dream</td><td>50.1</td><td>17.9</td><td>190</td><td>3400</td><td>female</td><td>2009</td><td>3.400</td></tr>\n",
              "\t<tr><td>Chinstrap</td><td>Dream</td><td>49.0</td><td>19.6</td><td>212</td><td>4300</td><td>male  </td><td>2009</td><td>4.300</td></tr>\n",
              "\t<tr><td>Chinstrap</td><td>Dream</td><td>51.5</td><td>18.7</td><td>187</td><td>3250</td><td>male  </td><td>2009</td><td>3.250</td></tr>\n",
              "\t<tr><td>Chinstrap</td><td>Dream</td><td>49.8</td><td>17.3</td><td>198</td><td>3675</td><td>female</td><td>2009</td><td>3.675</td></tr>\n",
              "\t<tr><td>Chinstrap</td><td>Dream</td><td>48.1</td><td>16.4</td><td>199</td><td>3325</td><td>female</td><td>2009</td><td>3.325</td></tr>\n",
              "\t<tr><td>Chinstrap</td><td>Dream</td><td>51.4</td><td>19.0</td><td>201</td><td>3950</td><td>male  </td><td>2009</td><td>3.950</td></tr>\n",
              "\t<tr><td>Chinstrap</td><td>Dream</td><td>45.7</td><td>17.3</td><td>193</td><td>3600</td><td>female</td><td>2009</td><td>3.600</td></tr>\n",
              "\t<tr><td>Chinstrap</td><td>Dream</td><td>50.7</td><td>19.7</td><td>203</td><td>4050</td><td>male  </td><td>2009</td><td>4.050</td></tr>\n",
              "\t<tr><td>Chinstrap</td><td>Dream</td><td>42.5</td><td>17.3</td><td>187</td><td>3350</td><td>female</td><td>2009</td><td>3.350</td></tr>\n",
              "\t<tr><td>Chinstrap</td><td>Dream</td><td>52.2</td><td>18.8</td><td>197</td><td>3450</td><td>male  </td><td>2009</td><td>3.450</td></tr>\n",
              "\t<tr><td>Chinstrap</td><td>Dream</td><td>45.2</td><td>16.6</td><td>191</td><td>3250</td><td>female</td><td>2009</td><td>3.250</td></tr>\n",
              "\t<tr><td>Chinstrap</td><td>Dream</td><td>49.3</td><td>19.9</td><td>203</td><td>4050</td><td>male  </td><td>2009</td><td>4.050</td></tr>\n",
              "\t<tr><td>Chinstrap</td><td>Dream</td><td>50.2</td><td>18.8</td><td>202</td><td>3800</td><td>male  </td><td>2009</td><td>3.800</td></tr>\n",
              "\t<tr><td>Chinstrap</td><td>Dream</td><td>45.6</td><td>19.4</td><td>194</td><td>3525</td><td>female</td><td>2009</td><td>3.525</td></tr>\n",
              "\t<tr><td>Chinstrap</td><td>Dream</td><td>51.9</td><td>19.5</td><td>206</td><td>3950</td><td>male  </td><td>2009</td><td>3.950</td></tr>\n",
              "\t<tr><td>Chinstrap</td><td>Dream</td><td>46.8</td><td>16.5</td><td>189</td><td>3650</td><td>female</td><td>2009</td><td>3.650</td></tr>\n",
              "\t<tr><td>Chinstrap</td><td>Dream</td><td>45.7</td><td>17.0</td><td>195</td><td>3650</td><td>female</td><td>2009</td><td>3.650</td></tr>\n",
              "\t<tr><td>Chinstrap</td><td>Dream</td><td>55.8</td><td>19.8</td><td>207</td><td>4000</td><td>male  </td><td>2009</td><td>4.000</td></tr>\n",
              "\t<tr><td>Chinstrap</td><td>Dream</td><td>43.5</td><td>18.1</td><td>202</td><td>3400</td><td>female</td><td>2009</td><td>3.400</td></tr>\n",
              "\t<tr><td>Chinstrap</td><td>Dream</td><td>49.6</td><td>18.2</td><td>193</td><td>3775</td><td>male  </td><td>2009</td><td>3.775</td></tr>\n",
              "\t<tr><td>Chinstrap</td><td>Dream</td><td>50.8</td><td>19.0</td><td>210</td><td>4100</td><td>male  </td><td>2009</td><td>4.100</td></tr>\n",
              "\t<tr><td>Chinstrap</td><td>Dream</td><td>50.2</td><td>18.7</td><td>198</td><td>3775</td><td>female</td><td>2009</td><td>3.775</td></tr>\n",
              "</tbody>\n",
              "</table>\n"
            ],
            "text/markdown": "\nA tibble: 344 × 9\n\n| species &lt;fct&gt; | island &lt;fct&gt; | bill_length_mm &lt;dbl&gt; | bill_depth_mm &lt;dbl&gt; | flipper_length_mm &lt;int&gt; | body_mass_g &lt;int&gt; | sex &lt;fct&gt; | year &lt;int&gt; | body_mass_kg &lt;dbl&gt; |\n|---|---|---|---|---|---|---|---|---|\n| Adelie | Torgersen | 39.1 | 18.7 | 181 | 3750 | male   | 2007 | 3.750 |\n| Adelie | Torgersen | 39.5 | 17.4 | 186 | 3800 | female | 2007 | 3.800 |\n| Adelie | Torgersen | 40.3 | 18.0 | 195 | 3250 | female | 2007 | 3.250 |\n| Adelie | Torgersen |   NA |   NA |  NA |   NA | NA     | 2007 |    NA |\n| Adelie | Torgersen | 36.7 | 19.3 | 193 | 3450 | female | 2007 | 3.450 |\n| Adelie | Torgersen | 39.3 | 20.6 | 190 | 3650 | male   | 2007 | 3.650 |\n| Adelie | Torgersen | 38.9 | 17.8 | 181 | 3625 | female | 2007 | 3.625 |\n| Adelie | Torgersen | 39.2 | 19.6 | 195 | 4675 | male   | 2007 | 4.675 |\n| Adelie | Torgersen | 34.1 | 18.1 | 193 | 3475 | NA     | 2007 | 3.475 |\n| Adelie | Torgersen | 42.0 | 20.2 | 190 | 4250 | NA     | 2007 | 4.250 |\n| Adelie | Torgersen | 37.8 | 17.1 | 186 | 3300 | NA     | 2007 | 3.300 |\n| Adelie | Torgersen | 37.8 | 17.3 | 180 | 3700 | NA     | 2007 | 3.700 |\n| Adelie | Torgersen | 41.1 | 17.6 | 182 | 3200 | female | 2007 | 3.200 |\n| Adelie | Torgersen | 38.6 | 21.2 | 191 | 3800 | male   | 2007 | 3.800 |\n| Adelie | Torgersen | 34.6 | 21.1 | 198 | 4400 | male   | 2007 | 4.400 |\n| Adelie | Torgersen | 36.6 | 17.8 | 185 | 3700 | female | 2007 | 3.700 |\n| Adelie | Torgersen | 38.7 | 19.0 | 195 | 3450 | female | 2007 | 3.450 |\n| Adelie | Torgersen | 42.5 | 20.7 | 197 | 4500 | male   | 2007 | 4.500 |\n| Adelie | Torgersen | 34.4 | 18.4 | 184 | 3325 | female | 2007 | 3.325 |\n| Adelie | Torgersen | 46.0 | 21.5 | 194 | 4200 | male   | 2007 | 4.200 |\n| Adelie | Biscoe    | 37.8 | 18.3 | 174 | 3400 | female | 2007 | 3.400 |\n| Adelie | Biscoe    | 37.7 | 18.7 | 180 | 3600 | male   | 2007 | 3.600 |\n| Adelie | Biscoe    | 35.9 | 19.2 | 189 | 3800 | female | 2007 | 3.800 |\n| Adelie | Biscoe    | 38.2 | 18.1 | 185 | 3950 | male   | 2007 | 3.950 |\n| Adelie | Biscoe    | 38.8 | 17.2 | 180 | 3800 | male   | 2007 | 3.800 |\n| Adelie | Biscoe    | 35.3 | 18.9 | 187 | 3800 | female | 2007 | 3.800 |\n| Adelie | Biscoe    | 40.6 | 18.6 | 183 | 3550 | male   | 2007 | 3.550 |\n| Adelie | Biscoe    | 40.5 | 17.9 | 187 | 3200 | female | 2007 | 3.200 |\n| Adelie | Biscoe    | 37.9 | 18.6 | 172 | 3150 | female | 2007 | 3.150 |\n| Adelie | Biscoe    | 40.5 | 18.9 | 180 | 3950 | male   | 2007 | 3.950 |\n| ⋮ | ⋮ | ⋮ | ⋮ | ⋮ | ⋮ | ⋮ | ⋮ | ⋮ |\n| Chinstrap | Dream | 46.9 | 16.6 | 192 | 2700 | female | 2008 | 2.700 |\n| Chinstrap | Dream | 53.5 | 19.9 | 205 | 4500 | male   | 2008 | 4.500 |\n| Chinstrap | Dream | 49.0 | 19.5 | 210 | 3950 | male   | 2008 | 3.950 |\n| Chinstrap | Dream | 46.2 | 17.5 | 187 | 3650 | female | 2008 | 3.650 |\n| Chinstrap | Dream | 50.9 | 19.1 | 196 | 3550 | male   | 2008 | 3.550 |\n| Chinstrap | Dream | 45.5 | 17.0 | 196 | 3500 | female | 2008 | 3.500 |\n| Chinstrap | Dream | 50.9 | 17.9 | 196 | 3675 | female | 2009 | 3.675 |\n| Chinstrap | Dream | 50.8 | 18.5 | 201 | 4450 | male   | 2009 | 4.450 |\n| Chinstrap | Dream | 50.1 | 17.9 | 190 | 3400 | female | 2009 | 3.400 |\n| Chinstrap | Dream | 49.0 | 19.6 | 212 | 4300 | male   | 2009 | 4.300 |\n| Chinstrap | Dream | 51.5 | 18.7 | 187 | 3250 | male   | 2009 | 3.250 |\n| Chinstrap | Dream | 49.8 | 17.3 | 198 | 3675 | female | 2009 | 3.675 |\n| Chinstrap | Dream | 48.1 | 16.4 | 199 | 3325 | female | 2009 | 3.325 |\n| Chinstrap | Dream | 51.4 | 19.0 | 201 | 3950 | male   | 2009 | 3.950 |\n| Chinstrap | Dream | 45.7 | 17.3 | 193 | 3600 | female | 2009 | 3.600 |\n| Chinstrap | Dream | 50.7 | 19.7 | 203 | 4050 | male   | 2009 | 4.050 |\n| Chinstrap | Dream | 42.5 | 17.3 | 187 | 3350 | female | 2009 | 3.350 |\n| Chinstrap | Dream | 52.2 | 18.8 | 197 | 3450 | male   | 2009 | 3.450 |\n| Chinstrap | Dream | 45.2 | 16.6 | 191 | 3250 | female | 2009 | 3.250 |\n| Chinstrap | Dream | 49.3 | 19.9 | 203 | 4050 | male   | 2009 | 4.050 |\n| Chinstrap | Dream | 50.2 | 18.8 | 202 | 3800 | male   | 2009 | 3.800 |\n| Chinstrap | Dream | 45.6 | 19.4 | 194 | 3525 | female | 2009 | 3.525 |\n| Chinstrap | Dream | 51.9 | 19.5 | 206 | 3950 | male   | 2009 | 3.950 |\n| Chinstrap | Dream | 46.8 | 16.5 | 189 | 3650 | female | 2009 | 3.650 |\n| Chinstrap | Dream | 45.7 | 17.0 | 195 | 3650 | female | 2009 | 3.650 |\n| Chinstrap | Dream | 55.8 | 19.8 | 207 | 4000 | male   | 2009 | 4.000 |\n| Chinstrap | Dream | 43.5 | 18.1 | 202 | 3400 | female | 2009 | 3.400 |\n| Chinstrap | Dream | 49.6 | 18.2 | 193 | 3775 | male   | 2009 | 3.775 |\n| Chinstrap | Dream | 50.8 | 19.0 | 210 | 4100 | male   | 2009 | 4.100 |\n| Chinstrap | Dream | 50.2 | 18.7 | 198 | 3775 | female | 2009 | 3.775 |\n\n",
            "text/latex": "A tibble: 344 × 9\n\\begin{tabular}{lllllllll}\n species & island & bill\\_length\\_mm & bill\\_depth\\_mm & flipper\\_length\\_mm & body\\_mass\\_g & sex & year & body\\_mass\\_kg\\\\\n <fct> & <fct> & <dbl> & <dbl> & <int> & <int> & <fct> & <int> & <dbl>\\\\\n\\hline\n\t Adelie & Torgersen & 39.1 & 18.7 & 181 & 3750 & male   & 2007 & 3.750\\\\\n\t Adelie & Torgersen & 39.5 & 17.4 & 186 & 3800 & female & 2007 & 3.800\\\\\n\t Adelie & Torgersen & 40.3 & 18.0 & 195 & 3250 & female & 2007 & 3.250\\\\\n\t Adelie & Torgersen &   NA &   NA &  NA &   NA & NA     & 2007 &    NA\\\\\n\t Adelie & Torgersen & 36.7 & 19.3 & 193 & 3450 & female & 2007 & 3.450\\\\\n\t Adelie & Torgersen & 39.3 & 20.6 & 190 & 3650 & male   & 2007 & 3.650\\\\\n\t Adelie & Torgersen & 38.9 & 17.8 & 181 & 3625 & female & 2007 & 3.625\\\\\n\t Adelie & Torgersen & 39.2 & 19.6 & 195 & 4675 & male   & 2007 & 4.675\\\\\n\t Adelie & Torgersen & 34.1 & 18.1 & 193 & 3475 & NA     & 2007 & 3.475\\\\\n\t Adelie & Torgersen & 42.0 & 20.2 & 190 & 4250 & NA     & 2007 & 4.250\\\\\n\t Adelie & Torgersen & 37.8 & 17.1 & 186 & 3300 & NA     & 2007 & 3.300\\\\\n\t Adelie & Torgersen & 37.8 & 17.3 & 180 & 3700 & NA     & 2007 & 3.700\\\\\n\t Adelie & Torgersen & 41.1 & 17.6 & 182 & 3200 & female & 2007 & 3.200\\\\\n\t Adelie & Torgersen & 38.6 & 21.2 & 191 & 3800 & male   & 2007 & 3.800\\\\\n\t Adelie & Torgersen & 34.6 & 21.1 & 198 & 4400 & male   & 2007 & 4.400\\\\\n\t Adelie & Torgersen & 36.6 & 17.8 & 185 & 3700 & female & 2007 & 3.700\\\\\n\t Adelie & Torgersen & 38.7 & 19.0 & 195 & 3450 & female & 2007 & 3.450\\\\\n\t Adelie & Torgersen & 42.5 & 20.7 & 197 & 4500 & male   & 2007 & 4.500\\\\\n\t Adelie & Torgersen & 34.4 & 18.4 & 184 & 3325 & female & 2007 & 3.325\\\\\n\t Adelie & Torgersen & 46.0 & 21.5 & 194 & 4200 & male   & 2007 & 4.200\\\\\n\t Adelie & Biscoe    & 37.8 & 18.3 & 174 & 3400 & female & 2007 & 3.400\\\\\n\t Adelie & Biscoe    & 37.7 & 18.7 & 180 & 3600 & male   & 2007 & 3.600\\\\\n\t Adelie & Biscoe    & 35.9 & 19.2 & 189 & 3800 & female & 2007 & 3.800\\\\\n\t Adelie & Biscoe    & 38.2 & 18.1 & 185 & 3950 & male   & 2007 & 3.950\\\\\n\t Adelie & Biscoe    & 38.8 & 17.2 & 180 & 3800 & male   & 2007 & 3.800\\\\\n\t Adelie & Biscoe    & 35.3 & 18.9 & 187 & 3800 & female & 2007 & 3.800\\\\\n\t Adelie & Biscoe    & 40.6 & 18.6 & 183 & 3550 & male   & 2007 & 3.550\\\\\n\t Adelie & Biscoe    & 40.5 & 17.9 & 187 & 3200 & female & 2007 & 3.200\\\\\n\t Adelie & Biscoe    & 37.9 & 18.6 & 172 & 3150 & female & 2007 & 3.150\\\\\n\t Adelie & Biscoe    & 40.5 & 18.9 & 180 & 3950 & male   & 2007 & 3.950\\\\\n\t ⋮ & ⋮ & ⋮ & ⋮ & ⋮ & ⋮ & ⋮ & ⋮ & ⋮\\\\\n\t Chinstrap & Dream & 46.9 & 16.6 & 192 & 2700 & female & 2008 & 2.700\\\\\n\t Chinstrap & Dream & 53.5 & 19.9 & 205 & 4500 & male   & 2008 & 4.500\\\\\n\t Chinstrap & Dream & 49.0 & 19.5 & 210 & 3950 & male   & 2008 & 3.950\\\\\n\t Chinstrap & Dream & 46.2 & 17.5 & 187 & 3650 & female & 2008 & 3.650\\\\\n\t Chinstrap & Dream & 50.9 & 19.1 & 196 & 3550 & male   & 2008 & 3.550\\\\\n\t Chinstrap & Dream & 45.5 & 17.0 & 196 & 3500 & female & 2008 & 3.500\\\\\n\t Chinstrap & Dream & 50.9 & 17.9 & 196 & 3675 & female & 2009 & 3.675\\\\\n\t Chinstrap & Dream & 50.8 & 18.5 & 201 & 4450 & male   & 2009 & 4.450\\\\\n\t Chinstrap & Dream & 50.1 & 17.9 & 190 & 3400 & female & 2009 & 3.400\\\\\n\t Chinstrap & Dream & 49.0 & 19.6 & 212 & 4300 & male   & 2009 & 4.300\\\\\n\t Chinstrap & Dream & 51.5 & 18.7 & 187 & 3250 & male   & 2009 & 3.250\\\\\n\t Chinstrap & Dream & 49.8 & 17.3 & 198 & 3675 & female & 2009 & 3.675\\\\\n\t Chinstrap & Dream & 48.1 & 16.4 & 199 & 3325 & female & 2009 & 3.325\\\\\n\t Chinstrap & Dream & 51.4 & 19.0 & 201 & 3950 & male   & 2009 & 3.950\\\\\n\t Chinstrap & Dream & 45.7 & 17.3 & 193 & 3600 & female & 2009 & 3.600\\\\\n\t Chinstrap & Dream & 50.7 & 19.7 & 203 & 4050 & male   & 2009 & 4.050\\\\\n\t Chinstrap & Dream & 42.5 & 17.3 & 187 & 3350 & female & 2009 & 3.350\\\\\n\t Chinstrap & Dream & 52.2 & 18.8 & 197 & 3450 & male   & 2009 & 3.450\\\\\n\t Chinstrap & Dream & 45.2 & 16.6 & 191 & 3250 & female & 2009 & 3.250\\\\\n\t Chinstrap & Dream & 49.3 & 19.9 & 203 & 4050 & male   & 2009 & 4.050\\\\\n\t Chinstrap & Dream & 50.2 & 18.8 & 202 & 3800 & male   & 2009 & 3.800\\\\\n\t Chinstrap & Dream & 45.6 & 19.4 & 194 & 3525 & female & 2009 & 3.525\\\\\n\t Chinstrap & Dream & 51.9 & 19.5 & 206 & 3950 & male   & 2009 & 3.950\\\\\n\t Chinstrap & Dream & 46.8 & 16.5 & 189 & 3650 & female & 2009 & 3.650\\\\\n\t Chinstrap & Dream & 45.7 & 17.0 & 195 & 3650 & female & 2009 & 3.650\\\\\n\t Chinstrap & Dream & 55.8 & 19.8 & 207 & 4000 & male   & 2009 & 4.000\\\\\n\t Chinstrap & Dream & 43.5 & 18.1 & 202 & 3400 & female & 2009 & 3.400\\\\\n\t Chinstrap & Dream & 49.6 & 18.2 & 193 & 3775 & male   & 2009 & 3.775\\\\\n\t Chinstrap & Dream & 50.8 & 19.0 & 210 & 4100 & male   & 2009 & 4.100\\\\\n\t Chinstrap & Dream & 50.2 & 18.7 & 198 & 3775 & female & 2009 & 3.775\\\\\n\\end{tabular}\n",
            "text/plain": [
              "    species   island    bill_length_mm bill_depth_mm flipper_length_mm\n",
              "1   Adelie    Torgersen 39.1           18.7          181              \n",
              "2   Adelie    Torgersen 39.5           17.4          186              \n",
              "3   Adelie    Torgersen 40.3           18.0          195              \n",
              "4   Adelie    Torgersen   NA             NA           NA              \n",
              "5   Adelie    Torgersen 36.7           19.3          193              \n",
              "6   Adelie    Torgersen 39.3           20.6          190              \n",
              "7   Adelie    Torgersen 38.9           17.8          181              \n",
              "8   Adelie    Torgersen 39.2           19.6          195              \n",
              "9   Adelie    Torgersen 34.1           18.1          193              \n",
              "10  Adelie    Torgersen 42.0           20.2          190              \n",
              "11  Adelie    Torgersen 37.8           17.1          186              \n",
              "12  Adelie    Torgersen 37.8           17.3          180              \n",
              "13  Adelie    Torgersen 41.1           17.6          182              \n",
              "14  Adelie    Torgersen 38.6           21.2          191              \n",
              "15  Adelie    Torgersen 34.6           21.1          198              \n",
              "16  Adelie    Torgersen 36.6           17.8          185              \n",
              "17  Adelie    Torgersen 38.7           19.0          195              \n",
              "18  Adelie    Torgersen 42.5           20.7          197              \n",
              "19  Adelie    Torgersen 34.4           18.4          184              \n",
              "20  Adelie    Torgersen 46.0           21.5          194              \n",
              "21  Adelie    Biscoe    37.8           18.3          174              \n",
              "22  Adelie    Biscoe    37.7           18.7          180              \n",
              "23  Adelie    Biscoe    35.9           19.2          189              \n",
              "24  Adelie    Biscoe    38.2           18.1          185              \n",
              "25  Adelie    Biscoe    38.8           17.2          180              \n",
              "26  Adelie    Biscoe    35.3           18.9          187              \n",
              "27  Adelie    Biscoe    40.6           18.6          183              \n",
              "28  Adelie    Biscoe    40.5           17.9          187              \n",
              "29  Adelie    Biscoe    37.9           18.6          172              \n",
              "30  Adelie    Biscoe    40.5           18.9          180              \n",
              "⋮   ⋮         ⋮         ⋮              ⋮             ⋮                \n",
              "315 Chinstrap Dream     46.9           16.6          192              \n",
              "316 Chinstrap Dream     53.5           19.9          205              \n",
              "317 Chinstrap Dream     49.0           19.5          210              \n",
              "318 Chinstrap Dream     46.2           17.5          187              \n",
              "319 Chinstrap Dream     50.9           19.1          196              \n",
              "320 Chinstrap Dream     45.5           17.0          196              \n",
              "321 Chinstrap Dream     50.9           17.9          196              \n",
              "322 Chinstrap Dream     50.8           18.5          201              \n",
              "323 Chinstrap Dream     50.1           17.9          190              \n",
              "324 Chinstrap Dream     49.0           19.6          212              \n",
              "325 Chinstrap Dream     51.5           18.7          187              \n",
              "326 Chinstrap Dream     49.8           17.3          198              \n",
              "327 Chinstrap Dream     48.1           16.4          199              \n",
              "328 Chinstrap Dream     51.4           19.0          201              \n",
              "329 Chinstrap Dream     45.7           17.3          193              \n",
              "330 Chinstrap Dream     50.7           19.7          203              \n",
              "331 Chinstrap Dream     42.5           17.3          187              \n",
              "332 Chinstrap Dream     52.2           18.8          197              \n",
              "333 Chinstrap Dream     45.2           16.6          191              \n",
              "334 Chinstrap Dream     49.3           19.9          203              \n",
              "335 Chinstrap Dream     50.2           18.8          202              \n",
              "336 Chinstrap Dream     45.6           19.4          194              \n",
              "337 Chinstrap Dream     51.9           19.5          206              \n",
              "338 Chinstrap Dream     46.8           16.5          189              \n",
              "339 Chinstrap Dream     45.7           17.0          195              \n",
              "340 Chinstrap Dream     55.8           19.8          207              \n",
              "341 Chinstrap Dream     43.5           18.1          202              \n",
              "342 Chinstrap Dream     49.6           18.2          193              \n",
              "343 Chinstrap Dream     50.8           19.0          210              \n",
              "344 Chinstrap Dream     50.2           18.7          198              \n",
              "    body_mass_g sex    year body_mass_kg\n",
              "1   3750        male   2007 3.750       \n",
              "2   3800        female 2007 3.800       \n",
              "3   3250        female 2007 3.250       \n",
              "4     NA        NA     2007    NA       \n",
              "5   3450        female 2007 3.450       \n",
              "6   3650        male   2007 3.650       \n",
              "7   3625        female 2007 3.625       \n",
              "8   4675        male   2007 4.675       \n",
              "9   3475        NA     2007 3.475       \n",
              "10  4250        NA     2007 4.250       \n",
              "11  3300        NA     2007 3.300       \n",
              "12  3700        NA     2007 3.700       \n",
              "13  3200        female 2007 3.200       \n",
              "14  3800        male   2007 3.800       \n",
              "15  4400        male   2007 4.400       \n",
              "16  3700        female 2007 3.700       \n",
              "17  3450        female 2007 3.450       \n",
              "18  4500        male   2007 4.500       \n",
              "19  3325        female 2007 3.325       \n",
              "20  4200        male   2007 4.200       \n",
              "21  3400        female 2007 3.400       \n",
              "22  3600        male   2007 3.600       \n",
              "23  3800        female 2007 3.800       \n",
              "24  3950        male   2007 3.950       \n",
              "25  3800        male   2007 3.800       \n",
              "26  3800        female 2007 3.800       \n",
              "27  3550        male   2007 3.550       \n",
              "28  3200        female 2007 3.200       \n",
              "29  3150        female 2007 3.150       \n",
              "30  3950        male   2007 3.950       \n",
              "⋮   ⋮           ⋮      ⋮    ⋮           \n",
              "315 2700        female 2008 2.700       \n",
              "316 4500        male   2008 4.500       \n",
              "317 3950        male   2008 3.950       \n",
              "318 3650        female 2008 3.650       \n",
              "319 3550        male   2008 3.550       \n",
              "320 3500        female 2008 3.500       \n",
              "321 3675        female 2009 3.675       \n",
              "322 4450        male   2009 4.450       \n",
              "323 3400        female 2009 3.400       \n",
              "324 4300        male   2009 4.300       \n",
              "325 3250        male   2009 3.250       \n",
              "326 3675        female 2009 3.675       \n",
              "327 3325        female 2009 3.325       \n",
              "328 3950        male   2009 3.950       \n",
              "329 3600        female 2009 3.600       \n",
              "330 4050        male   2009 4.050       \n",
              "331 3350        female 2009 3.350       \n",
              "332 3450        male   2009 3.450       \n",
              "333 3250        female 2009 3.250       \n",
              "334 4050        male   2009 4.050       \n",
              "335 3800        male   2009 3.800       \n",
              "336 3525        female 2009 3.525       \n",
              "337 3950        male   2009 3.950       \n",
              "338 3650        female 2009 3.650       \n",
              "339 3650        female 2009 3.650       \n",
              "340 4000        male   2009 4.000       \n",
              "341 3400        female 2009 3.400       \n",
              "342 3775        male   2009 3.775       \n",
              "343 4100        male   2009 4.100       \n",
              "344 3775        female 2009 3.775       "
            ]
          },
          "metadata": {}
        }
      ]
    },
    {
      "cell_type": "markdown",
      "source": [
        "**To graph with ggplot:**"
      ],
      "metadata": {
        "id": "_0k1nqgzzvDn"
      }
    },
    {
      "cell_type": "code",
      "source": [
        "ggplot(data = penguins, mapping = aes(x = flipper_length_mm, y = bill_length_mm)) +\n",
        "  geom_point(aes(color = species, shape = species),size = 2) +\n",
        "  geom_smooth(mapping = aes(x = flipper_length_mm, y = bill_length_mm, color = species), se = FALSE, method = lm) +\n",
        "    scale_color_manual(values = c(\"blue\", \"red\", \"dark green\"))+\n",
        "    theme_linedraw()"
      ],
      "metadata": {
        "colab": {
          "base_uri": "https://localhost:8080/",
          "height": 526
        },
        "id": "8DlgXHZcxOi6",
        "outputId": "cba44d48-5865-4697-acf8-afb72081630e"
      },
      "execution_count": 26,
      "outputs": [
        {
          "output_type": "stream",
          "name": "stderr",
          "text": [
            "\u001b[1m\u001b[22m`geom_smooth()` using formula = 'y ~ x'\n",
            "Warning message:\n",
            "“\u001b[1m\u001b[22mRemoved 2 rows containing non-finite values (`stat_smooth()`).”\n",
            "Warning message:\n",
            "“\u001b[1m\u001b[22mRemoved 2 rows containing missing values (`geom_point()`).”\n"
          ]
        },
        {
          "output_type": "display_data",
          "data": {
            "text/plain": [
              "plot without title"
            ],
            "image/png": "[encoded data removed]"
          },
          "metadata": {
            "image/png": {
              "width": 420,
              "height": 420
            }
          }
        }
      ]
    },
    {
      "cell_type": "code",
      "source": [
        "ggsave(\"penguins_bill_flipperlength.png\")"
      ],
      "metadata": {
        "colab": {
          "base_uri": "https://localhost:8080/"
        },
        "id": "QRtuuoO20VRU",
        "outputId": "c61b569a-bc98-44da-9115-49e37529e20e"
      },
      "execution_count": 27,
      "outputs": [
        {
          "output_type": "stream",
          "name": "stderr",
          "text": [
            "\u001b[1m\u001b[22mSaving 6.67 x 6.67 in image\n",
            "\u001b[1m\u001b[22m`geom_smooth()` using formula = 'y ~ x'\n",
            "Warning message:\n",
            "“\u001b[1m\u001b[22mRemoved 2 rows containing non-finite values (`stat_smooth()`).”\n",
            "Warning message:\n",
            "“\u001b[1m\u001b[22mRemoved 2 rows containing missing values (`geom_point()`).”\n"
          ]
        }
      ]
    }
  ]
}